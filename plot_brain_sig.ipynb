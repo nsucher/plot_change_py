{
 "cells": [
  {
   "cell_type": "code",
   "execution_count": 1,
   "id": "ac041457-d1e5-445f-86e6-b9546467c53b",
   "metadata": {},
   "outputs": [],
   "source": [
    "import os\n",
    "import xlsxwriter\n",
    "import pandas as pd\n",
    "\n",
    "from scipy.io import loadmat"
   ]
  },
  {
   "cell_type": "code",
   "execution_count": 2,
   "id": "0b5a62a1-105d-45f6-9895-ea3dcb1d6eaa",
   "metadata": {},
   "outputs": [],
   "source": [
    "pt = 'EC91'\n",
    "sz = '03'"
   ]
  },
  {
   "cell_type": "code",
   "execution_count": 3,
   "id": "b013ec31-a9e3-43a5-abb9-dac379662fbc",
   "metadata": {
    "tags": []
   },
   "outputs": [],
   "source": [
    "def get_mesh(ptpath,df_pt):\n",
    "    # load meshes you want to plot\n",
    "    meshpath = 'Imaging/Meshes/'\n",
    "    os.chdir(ptpath+meshpath)\n",
    "\n",
    "    Rcortex = loadmat(pt + '_rh_pial.mat'); \n",
    "    rpial = Rcortex['cortex']\n",
    "    del Rcortex\n",
    "    r_tri = rpial['tri']\n",
    "    r_vert = rpial['vert']\n",
    "    del rpial\n",
    "\n",
    "    Lcortex = loadmat(pt + '_lh_pial.mat'); \n",
    "    lpial = Lcortex['cortex']\n",
    "    del Lcortex\n",
    "    l_tri = lpial['tri']\n",
    "    l_vert = lpial['vert']\n",
    "    del lpial\n",
    "    \n",
    "    hippentry = df_pt['surfaces'].str.contains('hipp')\n",
    "    amygentry = df_pt['surfaces'].str.contains('amyg')\n",
    "\n",
    "    if hippentry.any(axis=0):\n",
    "        Rhipp = ptpath + meshpath + 'subcortical/rHipp_subcort.mat'\n",
    "        Lhipp = ptpath + meshpath + 'subcortical/lHipp_subcort.mat'\n",
    "        # if exist(Rhipp,'file'); Rhipp=load(Rhipp); Rhipp=Rhipp.cortex;  Lhipp=load(Lhipp); Lhipp=Lhipp.cortex;     else; error([errmsg 'hipp'])\n",
    "        # try:\n",
    "        #     Rhipp = loadmat(Rhipp)\n",
    "        #     Rhipp = Rhipp['cortex']\n",
    "        # except FileNotFoundError:\n",
    "        #     print('file not found')\n",
    "    if amygentry.any(axis=0):\n",
    "        Ramyg = ptpath + meshpath + 'subcortical/rAmyg_subcort.mat'\n",
    "        Lhipp = ptpath + meshpath + 'subcortical/lAmyg_subcort.mat'\n",
    "        # if exist(Ramyg,'file'); Ramyg=load(Ramyg); Ramyg=Ramyg.cortex;  Lamyg=load(Lamyg); Lamyg=Lamyg.cortex;\n",
    "        # try: \n",
    "        #     Lhipp = loadmat(Lhipp)\n",
    "        #     Lhipp = Lhipp['cortex']\n",
    "        # except FileNotFoundError:\n",
    "        #     print('file not found')\n",
    "\n",
    "    return r_tri,r_vert,l_tri,l_vert\n"
   ]
  },
  {
   "cell_type": "code",
   "execution_count": 4,
   "id": "7dfc8f79-1192-4253-b734-1f56978260bb",
   "metadata": {},
   "outputs": [],
   "source": [
    "def get_params(df_params,df_pt): #need to adjust if 1 pt as 2+ sz\n",
    "    params_fps = df_params.loc[pt]['fps']\n",
    "    params_gsp = df_params.loc[pt]['gsp']\n",
    "    params_slicebright = df_params.loc[pt]['slicebright']\n",
    "\n",
    "    return params_fps, params_gsp, params_slicebright"
   ]
  },
  {
   "cell_type": "code",
   "execution_count": 5,
   "id": "c7bdda75-98d9-43df-85ec-c100f7933ebc",
   "metadata": {},
   "outputs": [
    {
     "name": "stdout",
     "output_type": "stream",
     "text": [
      "Running EC91 seizure 03...\n"
     ]
    }
   ],
   "source": [
    "avg_change_path = '/Users/nataliasucher/Desktop/UCSF/Coding/OPSCEA/OPSCEADATA/avg_change_folders/'\n",
    "\n",
    "os.chdir(avg_change_path)\n",
    "\n",
    "df_params = pd.read_excel('OPSCEAparams.xlsx',index_col=0, engine='openpyxl',sheet_name='params' ) # Ndimensions and params_list\n",
    "df_pt = pd.read_excel('OPSCEAparams.xlsx',index_col=0, engine='openpyxl',sheet_name=pt ) # Ndimensions and pt specific params data\n",
    "\n",
    "ptsz = pt + '_' + sz # prefix for filenames of specific seizure\n",
    "ptpath = avg_change_path + pt + '/' # patient's folder\n",
    "szpath = ptpath + ptsz + '/' # specific seizure's folder\n",
    "print('Running ' + pt + ' seizure ' + sz + '...')\n",
    "\n",
    "fps,gsp,slicebright= get_params(df_params,df_pt) # 2 = params_llw\n",
    "\n",
    "r_tri,r_vert,l_tri,l_vert = get_mesh(ptpath,df_pt)\n",
    "\n",
    "\n",
    "# len_surface = df_pt_surface.shape[0]\n",
    "# print(df_pt[df_pt.loc['depth']].index)\n",
    "# depth_rows = list(df_pt.index.values)\n",
    "# bool_drows = [depthrows[\n",
    "\n",
    "# for i in range(0,len(depth_rows)):\n",
    "#     print(\n",
    "\n",
    "\n",
    "# print(df_pt(index=['depth']).index)\n",
    "\n",
    "\n",
    "# print(df_pt(index=['depth']).index)\n",
    "\n",
    "    \n",
    "# drows=find(strcmp(plottype,'depth'))'; ndepths=length(drows);\n",
    "# depthch=[]; for i=1:length(drows); depthch=[depthch depths{drows(i)}]; end; clear i %identify all depth electrode channels\n",
    "\n",
    "\n"
   ]
  }
 ],
 "metadata": {
  "kernelspec": {
   "display_name": "Python 3 (ipykernel)",
   "language": "python",
   "name": "python3"
  },
  "language_info": {
   "codemirror_mode": {
    "name": "ipython",
    "version": 3
   },
   "file_extension": ".py",
   "mimetype": "text/x-python",
   "name": "python",
   "nbconvert_exporter": "python",
   "pygments_lexer": "ipython3",
   "version": "3.9.7"
  }
 },
 "nbformat": 4,
 "nbformat_minor": 5
}
