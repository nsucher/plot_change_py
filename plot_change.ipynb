{
 "cells": [
  {
   "cell_type": "markdown",
   "id": "88e06506-4984-4626-9860-6ffc5ffc8df7",
   "metadata": {},
   "source": [
    "plot_change.py: Generate significance of electrode weight changes at neuroanatomical sites"
   ]
  },
  {
   "cell_type": "markdown",
   "id": "440d16a1-af04-48fb-a299-6577a6697063",
   "metadata": {},
   "source": [
    "## Pseudocode:\n",
    "    . Import\n",
    "    . Input symptom, mode, perdur\n",
    "    . Load Parameters\n",
    "    . For Loop through seizures"
   ]
  },
  {
   "cell_type": "markdown",
   "id": "5a0a6cc7-830d-4219-9ea4-de99aa7f2d08",
   "metadata": {
    "tags": []
   },
   "source": [
    "## Import"
   ]
  },
  {
   "cell_type": "code",
   "execution_count": 1,
   "id": "8fd52eb6-be5b-4151-8ea1-4e3a9c153ac6",
   "metadata": {
    "tags": []
   },
   "outputs": [],
   "source": [
    "import csv\n",
    "import os\n",
    "import pathlib\n",
    "import numpy as np\n",
    "from scipy.io import loadmat\n",
    "\n",
    "#\n",
    "import pandas as pd\n",
    "import datetime\n",
    "# from plot_change_module import *"
   ]
  },
  {
   "cell_type": "markdown",
   "id": "961e9f4d-0033-46b7-8aae-3c4f091e5f2b",
   "metadata": {},
   "source": [
    "## Define Functions"
   ]
  },
  {
   "cell_type": "code",
   "execution_count": 2,
   "id": "1de7e19a-6252-454c-a42b-ca6cd715ac42",
   "metadata": {
    "tags": []
   },
   "outputs": [],
   "source": [
    "def open_csv(mat_file):\n",
    "    \n",
    "    with open(mat_file,'r') as sz_mat:\n",
    "        mat_csv_list = list(csv.reader(sz_mat))\n",
    "\n",
    "        all_sx = mat_csv_list[0] #collect symptom abbreviations\n",
    "        sx_col = all_sx.index(sx_input) #find col num of symptom\n",
    "        csv_rows = np.size(mat_csv_list,0) #find row num \n",
    "\n",
    "        for r in range(1,csv_rows):  #collect symptom data for specfic seizure in list\n",
    "            sx_data.append(mat_csv_list[r][sx_col]) \n",
    "\n",
    "        try: \n",
    "            mx_index = sx_data.index(mx_input) #find row num of first occurance of mode  \n",
    "            return mx_index\n",
    "\n",
    "        except ValueError:\n",
    "            print('no matching mode')\n",
    "            "
   ]
  },
  {
   "cell_type": "code",
   "execution_count": 3,
   "id": "d561c82e-d149-4138-a9be-23d4ce572b3c",
   "metadata": {},
   "outputs": [],
   "source": [
    "def open_xl(xl_name): \n",
    "    # df = pd.read_excel(xl_name)\n",
    "    # Ndimensions = df.shape #row, col\n",
    "    # params_list = df.values.tolist()\n",
    "    \n",
    "    df = pd.read_excel(xl_name, index_col=0, engine='openpyxl')\n",
    "\n",
    "    return df\n"
   ]
  },
  {
   "cell_type": "code",
   "execution_count": 4,
   "id": "fbc92d79-bddb-4528-8d97-ba0717d4b31c",
   "metadata": {},
   "outputs": [],
   "source": [
    "def ll_weights(sz_name,perdur_input):\n",
    "    print(sz_name)\n",
    "\n",
    "    sz_path = pt_path + sz_data[pt_i]\n",
    "    os.chdir(sz_path)\n",
    "\n",
    "    df = pd.read_csv(sz_name + '_mat.csv',usecols = [sx_input])\n",
    "    try:\n",
    "        mx_index = df.index[df[sx_input]==int(mx_input)]\n",
    "        # first_mx = mx_index[0]\n",
    "        # print(first_mx)\n",
    "        # print((mx_index[0])/5)\n",
    "    except IndexError:\n",
    "        print('n/a')\n",
    "    \n",
    "    #load fs, ppEEG, study\n",
    "\n",
    "    sz_mat = loadmat(sz_name +'.mat')      \n",
    "    ppEEG = sz_mat['ppEEG']\n",
    "\n",
    "    try:\n",
    "        fs = [[element for element in upperElement] for upperElement in sz_mat['fs']]\n",
    "\n",
    "        ppEEG_col = len(sz_mat['ppEEG'][0])\n",
    "        ppEEG_row = len(sz_mat['ppEEG'])\n",
    "        ppEEG_mx = round(((mx_index[0])/5)*fs[0][0])\n",
    "        print(ppEEG_mx)\n",
    "        ppEEG_perdur = int(perdur_input) * fs[0][0]\n",
    "\n",
    "        # print(ppEEG_row,ppEEG_col)\n",
    "        # print(ppEEG_mx)\n",
    "        # print(ppEEG_perdur)\n",
    "        ppEEG_onset_list = []\n",
    "        ppEEG_before_list = []\n",
    "        ppEEG_after_list = []\n",
    "        \n",
    "        try:\n",
    "            for p in range(0,ppEEG_row-1):\n",
    "                ppEEG_onset_list.append(ppEEG[p][ppEEG_mx]) #at exact onset\n",
    "                ppEEG_before_list.append(ppEEG[p][ppEEG_mx-ppEEG_perdur])  #perdur before\n",
    "                ppEEG_after_list.append(ppEEG[p][ppEEG_mx+ppEEG_perdur])   #perdur after\n",
    "            return ppEEG_onset_list,ppEEG_before_list,ppEEG_after_list\n",
    "        except:\n",
    "            print('no ppEEG list')\n",
    "\n",
    "    except:\n",
    "        print('no fs or ppEEG')"
   ]
  },
  {
   "cell_type": "markdown",
   "id": "19eca60b-2e93-4c30-ba16-e35db39abb42",
   "metadata": {
    "tags": []
   },
   "source": [
    "## Input symptom, mode, and duration"
   ]
  },
  {
   "cell_type": "code",
   "execution_count": 5,
   "id": "2969037b-4679-4dd4-a181-9d421a5e5c0f",
   "metadata": {
    "tags": []
   },
   "outputs": [],
   "source": [
    "sx_input = 'lhx'\n",
    "mx_input = '2'\n",
    "perdur_input = '10'"
   ]
  },
  {
   "cell_type": "markdown",
   "id": "b016e999-7a98-4c8e-8d18-6f294672a782",
   "metadata": {},
   "source": [
    "## Load paramaters"
   ]
  },
  {
   "cell_type": "code",
   "execution_count": 6,
   "id": "49bfe942-4f41-4c51-8f81-055e1e0d37fc",
   "metadata": {
    "tags": []
   },
   "outputs": [],
   "source": [
    "opscea_path = '/Users/nataliasucher/Desktop/UCSF/Coding/OPSCEA/' # set path\n",
    "os.chdir(opscea_path)\n",
    "\n",
    "df_params = open_xl('OPSCEAparams.xlsx') # Ndimensions and params_list"
   ]
  },
  {
   "cell_type": "markdown",
   "id": "fb8f16d4-67e7-44ac-94d0-46a65dbb010c",
   "metadata": {},
   "source": [
    "## Load list of patient and seizure names"
   ]
  },
  {
   "cell_type": "code",
   "execution_count": 7,
   "id": "d921d6b3-d7b7-4a04-9129-24b008139d9c",
   "metadata": {},
   "outputs": [],
   "source": [
    "avg_change_path = '/Users/nataliasucher/Desktop/UCSF/Coding/OPSCEA/OPSCEADATA/avg_change_folders/'\n",
    "os.chdir(avg_change_path)\n",
    "\n",
    "sz_name_nd = open_xl('sz_name_list.xlsx')\n",
    "with open('sz_name_list.csv','r') as sz_names:\n",
    "    sz_names_list = list(csv.reader(sz_names))\n",
    "    sz_rows = np.size(sz_names_list,0) #find row num \n",
    "    pt_data = []\n",
    "    sz_data= []\n",
    "    for r in range(0,sz_rows):  #collect symptom data for specfic seizure in list\n",
    "        pt_data.append(sz_names_list[r][0]) \n",
    "        sz_data.append(sz_names_list[r][1]) "
   ]
  },
  {
   "cell_type": "markdown",
   "id": "0d282949-1556-42ad-b6ea-6a9e2e995d3f",
   "metadata": {},
   "source": [
    "## For loop through patients in list matching seizure"
   ]
  },
  {
   "cell_type": "code",
   "execution_count": 8,
   "id": "653f1d70-cfdc-4bb9-956f-3377113b350d",
   "metadata": {},
   "outputs": [
    {
     "name": "stdout",
     "output_type": "stream",
     "text": [
      "EC96_01\n",
      "49459\n",
      "[219.5354756869439, -113.79545098519063, 423.2951436718172, 31.506119759912277, 382.9390703129598, 72.84301915160864, -217.756382398634, -32.00133754360946, nan, -160.4594333894656, 241.61705973861692, -163.00974623092407, 89.10543094864984, 133.40499834263755, 141.746569206117, 63.114299721088905, -539.1775535178383, -792.0676279898562, -168.96731798900055, -46.656570656084945, 191.95298855361173, 175.62767030855463, -129.09407969969055, 192.90925933301153, -703.2836873375273, -659.1810670039326, 113.0518220185892, 133.9777713525882, 179.55583487688418, 138.27888353381437, 100.39172091911819, 124.06646175147371, -420.0134156221085, 55.675540676461964, -75.85103522989178, 123.09552659498729, 158.57319416061515, 229.75513609133534, 168.6812317021923, 77.33728816992131, -457.53757343776124, 458.1369646050004, -115.50403485211046, 57.05610404919726, 155.10130533714715, 155.70980698591168, 193.16377277430365, 159.7987446179027, -499.3806716510839, -43.01045116983865, -512.5842950136902, 32.62495547601426, 15.759919071259585, 159.9835872644659, 134.02992636450875, 78.01906900086979, -64.98383332788717, -253.16727520602967, 340.4071828897439, 93.36365711773756, 74.07482348271395, 81.85849829667657, 79.14715843798899, 3.3952319478616264, 82.8974775977545, 505.5012084513867, 1112.6855970425324, 33.93677559669015, 295.7122415598251, -77.23196714925817, 157.61390080884894, -74.02876263298361, -3.2050545606831014, 271.0680718768573, 369.8916724308925, 324.5041670180354, 557.6323831337729, 52.73461295641857, 235.82404832770595, 705.6781494980481, 205.3133080018121, -231.1050909169999, -99.95566298819537, 168.17884818316892, 222.7331725927237, 261.2592688928761, 50.092794082438836, 181.28925475335203, 153.7611518941616, -260.3766050902653, nan, 135.30644557652042, 200.80573541556782, 348.9935529624182, -1004.3008915990888, -1637.2238385400678, -297.5055595699071, 83.8242139473409, 57.48646950427391, 145.35340443952626, 50.76227712562957, 247.97126462210105, 86.80649261272758, 137.86700277735943, 148.47731814680486, 123.50386851168655, 1.9267041763903707, 143.5243825950848, 330.9653975260902, 193.05250033109152, nan, nan, nan, nan, nan, nan, nan, nan, nan, nan, nan, nan, nan, nan, nan, nan, nan]\n",
      "EC107_01\n",
      "68301\n",
      "[-50.87128131534424, -25.10437269089483, 76.93828483710746, 289.59028099982044, 550.7244182399545, -184.14134013492193, 73.7348887598816, 17.446573507818034, 88.4947512891174, -18.450992269095458, -18.954007631238195, 162.7103983335671, 397.8302561916208, 72.93773397273438, 102.07659891381464, 282.30386665249665, -31.129804984678998, -405.8120251531268, -398.5353330788621, -179.18505250528477, -124.40882011527937, -149.01007889661227, 180.32116221047897, 140.86705854515668, -60.55646023457019, -234.0323986764925, -716.5067023700879, -92.38399292963223, -377.5266161935265, -270.7237481575217, 93.30964090628845, 88.6220739599862, -341.5579454813864, -323.21760941703644, -6.945605892508418, 0.41790574253644824, -301.77994486315794, -136.23560588089993, 52.690019015766566, -2.9668541999490126, -136.6925233598005, 719.2607212479354, 131.94120785065138, -34.044216265814256, 299.6834527712822, -8.839846975694796, -299.5425571524692, 55.29160158470888, nan, 341.42002541867595, 325.72023707081786, 29.094640201295565, 213.99454419569994, 332.641683732077, 204.5898362474637, 41.274057363857985, nan, 156.74444890800288, 282.7038568528575, -107.95091412626392, 128.37843250614236, 239.56114786297587, 205.96698621785555, 206.21279891847033, 271.6016223778287, -68.77232562336667, 246.25607370567943, 292.9548137023883, 152.20834600439423, 183.80984584274916, -43.97512128913019, 258.40571403782695, 696.7698740208787, 782.1779035509658, -91.47732592969221, 183.33121503024637, 38.333733222618065, 283.48084613544984, -64.89529243744657, -186.2187758310009, -164.77933391856033, 155.99008979637384, 82.61693476607358, 149.20127437130924, -156.6422242660895, 72.80590868115932, -175.43698420763894, -260.8786259334739, -316.6172946213956, 43.65183693106517, 208.73572580631142, 84.66291200440034, -14.773421864770373, -1455.6011878874644, -257.6246108302178, -737.3139405986866, -515.7478497216383, -319.75918869579795, 96.72869436051758, 85.21918850029414, 131.0203433024508, 13.760889547418813, 91.5395345239083, 121.36770104669655, 197.01301307765283, 49.90340814828086, 31.083054370142516, 121.77369258842337, -109.83775509676266, -182.1841442080695, -84.11297226894565, -768.4044967570078, nan, nan, -159.68173513701674, -28.56130384980336, -110.20775682637013, -80.90010581673965, -18.71473922262885, -108.91066591190838, nan, -94.14715506972385, nan, nan, -247.61804109104844, -227.3075301371995, -196.49937171890755, -657.0045034279594, 26.01251236503889, 78.32465719819362, 21.737476307017296, -231.37763510416858, -233.3194542315604, -221.4663141226848, -145.71678616530224, -157.30005539355076, -108.1372219571563, 97.02504553399571, -8.99821106073843, -179.71138797069764, -288.14605308448245, -265.843099710701, nan, 92.11204048054927, nan, nan, nan, nan, nan, nan, nan, nan, nan, nan, nan, nan, nan, nan, nan, nan, nan, nan, nan, nan, nan, nan, nan, nan, nan, nan, nan, nan, nan, nan, nan, nan, nan, nan, nan, nan, nan, nan, nan, nan, nan, nan, nan, nan, nan, nan, nan, nan, nan, nan, nan, nan, nan, nan, nan, nan, nan, nan, nan, nan, nan, nan, nan, nan, nan, nan, nan, nan, nan, nan, nan, nan, nan, nan, nan, nan, nan, nan, nan, nan, nan, nan, nan, nan, nan, nan, nan, nan, nan, nan, nan, nan, nan, nan, nan, nan, nan, nan, nan, nan, nan, nan, nan, nan, nan, nan, nan, nan, nan, nan, nan, nan, nan, nan, nan, nan, nan, nan, nan, nan, nan, nan, nan, nan, nan, nan, nan, nan, nan, nan, nan]\n",
      "EC133_03\n",
      "no fs or ppEEG\n",
      "no ll list\n",
      "EC229_02\n",
      "72602\n",
      "[-242.11863044315686, -178.85122848141225, 156.52881965688604, 166.229141923587, 274.2350495652737, 21.33988751213436, 102.92150493585349, 32.471829405621385, 51.475963944805684, -77.44128419493934, 358.16769566304873, 157.29825364034312, 133.4249299273625, 78.44386854660263, -197.6795335071117, -211.4241857906977, -87.55481626820708, -158.1917439174431, -617.4252253092221, -100.04044506731265, -86.47010735022606, -237.9019516676664, -371.15190989268166, -259.2256377047452, 28.778545891388863, -218.99055732552824, -88.3789234045099, -174.25589393453635, -112.1458301789654, -15.567546065164782, 10.176640526015708, -107.12605831286784, 123.12679647406361, 62.35516050166711, 1831.7551069244262, -227.40841726861754, -84.15561038737442, 92.53169858367978, 95.3780317804261, 171.31100021527746, -59.73491196351995, 285.4136588068517, 379.16401705944577, -488.1932904163081, -156.7900547056689, -58.68570998929587, 162.60841064502168, 180.70149161437075, -351.5202493270763, -121.47882411376884, -218.95970407535705, -198.54714052746914, 48.86844412194651, 142.430416824407, -37.544518265117276, -305.69250163552795, -468.98623987455125, -126.52910301525677, 257.1100905413274, 867.8465463931253, 500.50218690742486, 377.02348246103844, 135.57132368825276, 8.00373063815616, 629.0315997354552, 534.7961740626282, -23.800323939574422, -31.447336250992894, 94.51778803652115, 224.822443896082, -47.701347966222336, -92.58864239447365, 100.27107922809316, -26.193959145908785, 101.75013503580813, 305.7207028422866, 177.96303016658268, 63.06997853896768, -290.9051244028422, -11.764914556381243, -280.21987949457144, -99.58469246601939, -213.6650851085691, -306.5873690555862, -1356.2119462347603, -212.12315183396262, -116.89238740105473, -226.5726027466325, -782.5212359445345, -253.98097677869248, -128.5240512421418, -258.2109897034871, -235.59799342709132, -212.26575107860532, -251.0923408222563, -225.50124374699413, -253.88377940084914, -253.78176192034493, -366.79308830522814, -383.6191620100637, 18.244109278985082, -333.3756399276026, -287.7023302192409, -239.68356570494072, -154.88022989904474, -195.39845994108052, -25.7029305605321, -173.3366335123929, -100.01527323981632, 78.00514997570289, 429.87630127172037, 295.4887836091941, 107.79027464020797, -54.18279251119327, 21.944234420288886, 36.40337627849833, 70.57205835076086, 190.10318637909552, 284.23814717280766, 83.38260021520215, 446.98746646956255, 617.9449071716434, 927.7757747042543, 1444.0822622332098, 27.635859108586246, 45.91065162283416, 124.8228365562161, 160.93403823090944, 94.06005515299145, -78.86195242993738, nan, nan, nan, nan, nan, nan, nan, nan, nan, nan, nan, nan, nan, nan, nan, nan, nan, nan, nan, nan, nan, nan, nan, nan, nan, nan, nan, nan, nan, nan, nan, nan, nan, nan, nan, nan, nan, nan, nan, nan, nan, nan, nan, nan, nan, nan, nan, nan, nan, nan, nan, nan, nan, nan, nan, nan, nan, nan, nan, nan, nan, nan, nan, nan, nan, nan, nan, nan, nan, nan, nan, nan, nan, nan, nan, nan, nan, nan, nan, nan, nan, nan, nan, nan, nan, nan, nan, nan, nan, nan, nan, nan, nan, nan, nan, nan, nan, nan, nan, nan, nan, nan, nan, nan, nan, nan, nan, nan, nan, nan, nan, nan, nan, nan, nan, nan, nan, nan, nan, nan, nan, nan, nan, nan, nan, nan, nan, nan, nan, nan, nan, nan, nan, nan, nan, nan, nan, nan, nan, nan, nan, nan, nan, nan, nan]\n"
     ]
    }
   ],
   "source": [
    "for pt in pt_data:\n",
    "    \n",
    "    pt_i = pt_data.index(pt)\n",
    "    sz_name = sz_data[pt_i]\n",
    "\n",
    "    pt_path = avg_change_path + pt + '/'\n",
    "    os.chdir(pt_path)\n",
    "    pt_dir = os.listdir(pt_path)\n",
    "    \n",
    "    for sz_name in sz_data:\n",
    "        \n",
    "        if sz_name in pt_dir:\n",
    "            ll = ll_weights(sz_name,perdur_input)\n",
    "            try:\n",
    "                ll_onset = ll[0] #onset\n",
    "                ll_before = ll[1] #before\n",
    "                ll_after = ll[2] #after\n",
    "                \n",
    "            except:\n",
    "                print('no ll list')\n",
    "            \n",
    "            os.chdir(pt_path + 'Imaging/elecs')\n",
    "            e_mat = loadmat('clinical_elecs_all.mat')\n",
    "            anatomy = e_mat['anatomy']\n",
    "            em = e_mat['elecmatrix']\n",
    "            \n",
    "            #extract before and after from ll_weights\n",
    "\n",
    "        #load electrodes -- anatomy, eleclabels, elecmatrix\n",
    "        # os.chdir(path3)"
   ]
  },
  {
   "cell_type": "markdown",
   "id": "431374cd-a846-46db-8ecf-4910e5ba6c71",
   "metadata": {
    "tags": []
   },
   "source": [
    "## Load frame speed and ppEEG"
   ]
  },
  {
   "cell_type": "code",
   "execution_count": 9,
   "id": "6661aba9-76c8-4a91-b2aa-0286958c5414",
   "metadata": {},
   "outputs": [],
   "source": [
    "        # path2 = os.path.join(path1,sz_name)\n",
    "        # os.chdir(pt_path)\n",
    "        # elecs_path = os.path.join(pt_path,'Imaging/elecs')\n",
    "        # os.chdir(elecs_path)\n"
   ]
  },
  {
   "cell_type": "markdown",
   "id": "97414094-6988-4387-b2d4-78169e445ca3",
   "metadata": {},
   "source": [
    "## Collect linelength weight times"
   ]
  },
  {
   "cell_type": "code",
   "execution_count": 10,
   "id": "fc30947d-2ca7-4a0b-b435-8747e82d3012",
   "metadata": {},
   "outputs": [
    {
     "ename": "NameError",
     "evalue": "name 'first_mx' is not defined",
     "output_type": "error",
     "traceback": [
      "\u001b[0;31m---------------------------------------------------------------------------\u001b[0m",
      "\u001b[0;31mNameError\u001b[0m                                 Traceback (most recent call last)",
      "\u001b[0;32m/var/folders/yg/mdppj78s1zg98yqntmdjd3xw0000gn/T/ipykernel_20048/4261590941.py\u001b[0m in \u001b[0;36m<module>\u001b[0;34m\u001b[0m\n\u001b[1;32m      1\u001b[0m \u001b[0;31m#load sfx from .mat\u001b[0m\u001b[0;34m\u001b[0m\u001b[0;34m\u001b[0m\u001b[0m\n\u001b[0;32m----> 2\u001b[0;31m \u001b[0mseconds\u001b[0m \u001b[0;34m=\u001b[0m \u001b[0;34m(\u001b[0m\u001b[0mfirst_mx\u001b[0m \u001b[0;34m/\u001b[0m \u001b[0;36m5\u001b[0m \u001b[0;34m*\u001b[0m \u001b[0msfx\u001b[0m\u001b[0;34m)\u001b[0m\u001b[0;34m\u001b[0m\u001b[0;34m\u001b[0m\u001b[0m\n\u001b[0m",
      "\u001b[0;31mNameError\u001b[0m: name 'first_mx' is not defined"
     ]
    }
   ],
   "source": [
    "#load sfx from .mat\n",
    "seconds = (first_mx / 5 * sfx)\n"
   ]
  },
  {
   "cell_type": "code",
   "execution_count": null,
   "id": "75045197-5cce-41ed-9961-1c64c28f6bc6",
   "metadata": {},
   "outputs": [],
   "source": [
    "            #COLLECT LL WEIGHT TIMES \n",
    "            \n",
    "            #find first occurance of either 1, 2, or 3 \n",
    "#             td_perdur = pd.Timedelta(int(perdur_input), \"s\")\n",
    "            \n",
    "    \n",
    "#             ll_weight_times.append(pd.Timedelta(mx_index / 5) + sem_first)\n",
    "#             ll_weight_times.append(pd.Timedelta(mx_index / 5) + sem_first - td_perdur)\n",
    "#             ll_weight_times.append(pd.Timedelta(mx_index / 5) + sem_first + td_perdur)\n",
    "\n",
    "            #collect sorting index\n",
    "            #collect relevant snippet from ll based on ll_weight_times\n",
    "            "
   ]
  },
  {
   "cell_type": "markdown",
   "id": "e1678da1-465a-422e-9861-b5c9a341eb01",
   "metadata": {},
   "source": [
    "## Load semiology matrix"
   ]
  },
  {
   "cell_type": "code",
   "execution_count": null,
   "id": "76c018c4-fc13-402e-b11c-fb0de7a961c6",
   "metadata": {
    "tags": []
   },
   "outputs": [],
   "source": [
    "            # print(df)\n",
    "            # time_mat_file = '_'.join([sz_name,'time_mat.csv'])\n",
    "            \n",
    "\n",
    "#             with open(time_mat_file,'r') as sz_time_mat:\n",
    "                \n",
    "#                 time_mat_csv_list = list(csv.reader(sz_time_mat))\n",
    "\n",
    "#                 vid_start = time_mat_csv_list[1][0]\n",
    "#                 vid_end = time_mat_csv_list[1][1]\n",
    "#                 mat_start = time_mat_csv_list[1][2]\n",
    "#                 mat_end = time_mat_csv_list[1][3]\n",
    "\n",
    "#                 td_vid_start = pd.Timedelta(vid_start)\n",
    "#                 td_vid_end = pd.Timedelta(vid_end)\n",
    "\n",
    "\n",
    "#                 td_mat_start = pd.Timedelta(mat_start)\n",
    "#                 td_mat_end = pd.Timedelta(mat_end)\n",
    "\n",
    "#                 td_vid_dur = td_vid_end - td_vid_start\n",
    "#                 # print(td_vid_dur)\n",
    "#                 td_mat_dur = td_mat_end - td_mat_start\n",
    "#                 # print(td_mat_dur)\n",
    "\n",
    "\n",
    "#                 #if params vid start == start of video\n",
    "#             # print(params_list[num][:])\n",
    "#     #                 td_params_stop = pd.Timedelta(int(params_vid_stop), \"s\")\n",
    "\n",
    "\n",
    "#     #                 short_vid_start = td_mat_start + td_mat_dur - td_params_stop\n",
    "#                 sem_first = td_mat_start - td_vid_start\n",
    "#                 sem_last = sem_first + td_mat_dur\n",
    "#                 sem_period = [sem_first, sem_last]\n",
    "\n",
    "\n",
    "#                 #convert sem_first in m:s.ms --> # of 200 ms \n",
    "#                 #pad with sem_first \n",
    "#                 pad_start_ms = sem_first.total_seconds() #* 1000 \n",
    "#                 print(sz_name)\n",
    "                \n",
    "#                 print('col num:', df.size) #size should be vid dur + 1\n",
    "\n",
    "#                 print('vid dur in 200 ms:', (td_vid_dur).total_seconds()* 5 )\n",
    "\n",
    "#                 print('mat in 200 ms:', (td_mat_dur).total_seconds()*5)\n",
    "#                 # print('mat dur:', (td_mat_dur).total_seconds()*1000/5)\n",
    "#                 print('pad start with:', pad_start_ms*5)\n",
    "                \n",
    "# #                 x = np.full([1,2,3],np.nan)\n",
    "# #                 x = np.empty(int(pad_start_ms/5))\n",
    "# #                 x.fill(np.nan)\n",
    "# #                 print(int(pad_end_ms/5))\n",
    "\n",
    "# #                 print(x)\n",
    "\n",
    "\n",
    "#             # x = nan(pad_start_ms/5)\n",
    "\n",
    "#                 if td_mat_end < td_vid_end:\n",
    "#                     td_pad_end = td_vid_end - td_mat_end\n",
    "#                     pad_end_ms = td_pad_end.total_seconds() #* 1000\n",
    "#                     print('pad end with:', pad_end_ms*5)\n",
    "\n",
    "#                 elif td_mat_end > td_vid_end:\n",
    "#                     td_trim_end = td_mat_end - td_vid_end\n",
    "#                     trim_end_ms = td_trim_end.total_seconds() #* 1000\n",
    "\n",
    "#                     print('trim end by:', trim_end_ms*5)\n",
    "#                 elif td_vid_end == td_mat_end:\n",
    "#                     print(td_vid_end)\n",
    "#                     print(td_mat_end)"
   ]
  },
  {
   "cell_type": "markdown",
   "id": "b5f4ad88-87cc-4865-ac8b-4808e6da2d50",
   "metadata": {},
   "source": [
    "## Find first occurance of mode"
   ]
  },
  {
   "cell_type": "code",
   "execution_count": null,
   "id": "6a6818eb-c818-49fb-9dee-0931edd61092",
   "metadata": {
    "tags": []
   },
   "outputs": [],
   "source": [
    "#make applicable to multiple seizures from single patient        \n",
    "        # params_vid_start = df_params.loc['EC96']['VIDstart']\n",
    "        # print(params_vid_start)\n",
    "        # params_vid_stop = df_params.loc['EC96']['VIDstop']\n",
    "        # print(params_vid_stop)"
   ]
  },
  {
   "cell_type": "markdown",
   "id": "c1734051-af3d-4242-be98-4210d8d03499",
   "metadata": {},
   "source": [
    "Extract parameters"
   ]
  },
  {
   "cell_type": "markdown",
   "id": "8e3d0278-8746-4a24-9b6d-169bcf330a14",
   "metadata": {},
   "source": [
    "Set path and initialize variables for semiology and time matrix"
   ]
  },
  {
   "cell_type": "code",
   "execution_count": null,
   "id": "6bca888a-269b-4444-a8d0-b5138c2a64bc",
   "metadata": {},
   "outputs": [],
   "source": [
    "            \n",
    "\n",
    "        #load symptom matrix (mat.csv) and time matrix (time_mat.csv) and electrode info over time matrix (sz.mat)\n",
    "            # os.chdir(path2)\n",
    "\n",
    "            # mat_file = '_'.join([sz_name,'mat.csv'])\n"
   ]
  },
  {
   "cell_type": "markdown",
   "id": "c054027c-bb67-4cb6-b423-bf1ea55ddc64",
   "metadata": {},
   "source": [
    "Load time matrix and match up with video and semiology matrix"
   ]
  },
  {
   "cell_type": "code",
   "execution_count": null,
   "id": "1f957a24-fe37-49ac-b56a-5c454fbcd748",
   "metadata": {},
   "outputs": [],
   "source": [
    "            \n",
    "#             elecs_mat = loadmat('clinical_elecs_all.mat')            \n",
    "        \n",
    "#                 #load anatomy\n",
    "#             anatomy = [[element for element in upperElement] for upperElement in elecs_mat['anatomy']]\n",
    "            # eleclabels = [[element for element in upperElement] for upperElement in elecs_mat['eleclabels']]\n",
    "            # elecmatrix = [[element for element in upperElement] for upperElement in elecs_mat['elecmatrix']]\n",
    "            \n",
    "            \n",
    "            \n",
    "            #TRY/EXCEPT INSTEAD\n",
    "            # make sure variables are present\n",
    "#             if 'anatomy' in locals() or 'anatomy' in globals():\n",
    "#                 #collect neuroanatomy by row\n",
    "#                 for a_row in range(0,np.size(anatomy,0)):\n",
    "#                     if np.size(anatomy[a_row][3]) == 1:\n",
    "#                         anat.append(anatomy[a_row][3][0])\n",
    "#                 del anatomy\n",
    "\n",
    "                "
   ]
  },
  {
   "cell_type": "code",
   "execution_count": null,
   "id": "67b4e8e3-023b-4a20-b371-51b37df074ee",
   "metadata": {},
   "outputs": [],
   "source": []
  },
  {
   "cell_type": "code",
   "execution_count": null,
   "id": "26bc1cc3-37af-4968-b3d2-de6fb82b4c5d",
   "metadata": {},
   "outputs": [],
   "source": []
  },
  {
   "cell_type": "code",
   "execution_count": null,
   "id": "62936a37-83d0-4616-9936-8ae9a7f0eb13",
   "metadata": {},
   "outputs": [],
   "source": []
  },
  {
   "cell_type": "code",
   "execution_count": null,
   "id": "710c6409-dee3-4e49-bd20-3e5fee968797",
   "metadata": {},
   "outputs": [],
   "source": []
  }
 ],
 "metadata": {
  "kernelspec": {
   "display_name": "Python 3 (ipykernel)",
   "language": "python",
   "name": "python3"
  },
  "language_info": {
   "codemirror_mode": {
    "name": "ipython",
    "version": 3
   },
   "file_extension": ".py",
   "mimetype": "text/x-python",
   "name": "python",
   "nbconvert_exporter": "python",
   "pygments_lexer": "ipython3",
   "version": "3.9.7"
  }
 },
 "nbformat": 4,
 "nbformat_minor": 5
}
