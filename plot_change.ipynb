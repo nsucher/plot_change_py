{
 "cells": [
  {
   "cell_type": "markdown",
   "id": "88e06506-4984-4626-9860-6ffc5ffc8df7",
   "metadata": {},
   "source": [
    "plot_change.py: Generate significance of electrode weight changes at neuroanatomical sites"
   ]
  },
  {
   "cell_type": "markdown",
   "id": "440d16a1-af04-48fb-a299-6577a6697063",
   "metadata": {},
   "source": [
    "## Pseudocode:\n",
    "    . Import\n",
    "    . Input symptom, mode, perdur\n",
    "    . Load Parameters\n",
    "    . For Loop through seizures"
   ]
  },
  {
   "cell_type": "markdown",
   "id": "5a0a6cc7-830d-4219-9ea4-de99aa7f2d08",
   "metadata": {
    "tags": []
   },
   "source": [
    "## Import"
   ]
  },
  {
   "cell_type": "code",
   "execution_count": 1,
   "id": "8fd52eb6-be5b-4151-8ea1-4e3a9c153ac6",
   "metadata": {
    "tags": []
   },
   "outputs": [],
   "source": [
    "import csv\n",
    "import os\n",
    "import pathlib\n",
    "import numpy as np\n",
    "from scipy.io import loadmat\n",
    "\n",
    "#\n",
    "import pandas as pd\n",
    "import datetime\n",
    "# from plot_change_module import *"
   ]
  },
  {
   "cell_type": "markdown",
   "id": "961e9f4d-0033-46b7-8aae-3c4f091e5f2b",
   "metadata": {},
   "source": [
    "## Define Functions"
   ]
  },
  {
   "cell_type": "code",
   "execution_count": 2,
   "id": "1de7e19a-6252-454c-a42b-ca6cd715ac42",
   "metadata": {
    "tags": []
   },
   "outputs": [],
   "source": [
    "def open_csv(mat_file):\n",
    "    \n",
    "    with open(mat_file,'r') as sz_mat:\n",
    "        mat_csv_list = list(csv.reader(sz_mat))\n",
    "\n",
    "        all_sx = mat_csv_list[0] #collect symptom abbreviations\n",
    "        sx_col = all_sx.index(sx_input) #find col num of symptom\n",
    "        csv_rows = np.size(mat_csv_list,0) #find row num \n",
    "\n",
    "        for r in range(1,csv_rows):  #collect symptom data for specfic seizure in list\n",
    "            sx_data.append(mat_csv_list[r][sx_col]) \n",
    "\n",
    "        try: \n",
    "            mx_index = sx_data.index(mx_input) #find row num of first occurance of mode  \n",
    "            return mx_index\n",
    "\n",
    "        except ValueError:\n",
    "            print('no matching mode')\n",
    "            "
   ]
  },
  {
   "cell_type": "code",
   "execution_count": 3,
   "id": "d561c82e-d149-4138-a9be-23d4ce572b3c",
   "metadata": {},
   "outputs": [],
   "source": [
    "def open_xl(xl_name): \n",
    "    # df = pd.read_excel(xl_name)\n",
    "    # Ndimensions = df.shape #row, col\n",
    "    # params_list = df.values.tolist()\n",
    "    \n",
    "    df = pd.read_excel(xl_name, index_col=0, engine='openpyxl')\n",
    "\n",
    "    return df\n"
   ]
  },
  {
   "cell_type": "markdown",
   "id": "19eca60b-2e93-4c30-ba16-e35db39abb42",
   "metadata": {
    "tags": []
   },
   "source": [
    "## Input symptom, mode, and duration"
   ]
  },
  {
   "cell_type": "code",
   "execution_count": 4,
   "id": "2969037b-4679-4dd4-a181-9d421a5e5c0f",
   "metadata": {
    "tags": []
   },
   "outputs": [],
   "source": [
    "sx_input = 'lhx'\n",
    "mx_input = '2'\n",
    "perdur_input = '10'"
   ]
  },
  {
   "cell_type": "markdown",
   "id": "b016e999-7a98-4c8e-8d18-6f294672a782",
   "metadata": {},
   "source": [
    "## Load paramaters"
   ]
  },
  {
   "cell_type": "code",
   "execution_count": 5,
   "id": "49bfe942-4f41-4c51-8f81-055e1e0d37fc",
   "metadata": {
    "tags": []
   },
   "outputs": [],
   "source": [
    "opscea_path = '/Users/nataliasucher/Desktop/UCSF/Coding/OPSCEA/' # set path\n",
    "os.chdir(opscea_path)\n",
    "\n",
    "df_params = open_xl('OPSCEAparams.xlsx') # Ndimensions and params_list"
   ]
  },
  {
   "cell_type": "markdown",
   "id": "fb8f16d4-67e7-44ac-94d0-46a65dbb010c",
   "metadata": {},
   "source": [
    "## Load list of patient and seizure names"
   ]
  },
  {
   "cell_type": "code",
   "execution_count": 6,
   "id": "d921d6b3-d7b7-4a04-9129-24b008139d9c",
   "metadata": {},
   "outputs": [],
   "source": [
    "avg_change_path = '/Users/nataliasucher/Desktop/UCSF/Coding/OPSCEA/OPSCEADATA/avg_change_folders/'\n",
    "os.chdir(avg_change_path)\n",
    "\n",
    "sz_name_nd = open_xl('sz_name_list.xlsx')\n",
    "with open('sz_name_list.csv','r') as sz_names:\n",
    "    sz_names_list = list(csv.reader(sz_names))\n",
    "    sz_rows = np.size(sz_names_list,0) #find row num \n",
    "    pt_data = []\n",
    "    sz_data= []\n",
    "    for r in range(0,sz_rows):  #collect symptom data for specfic seizure in list\n",
    "        pt_data.append(sz_names_list[r][0]) \n",
    "        sz_data.append(sz_names_list[r][1]) "
   ]
  },
  {
   "cell_type": "markdown",
   "id": "0d282949-1556-42ad-b6ea-6a9e2e995d3f",
   "metadata": {},
   "source": [
    "## For loop through patients in list matching seizure"
   ]
  },
  {
   "cell_type": "code",
   "execution_count": 156,
   "id": "653f1d70-cfdc-4bb9-956f-3377113b350d",
   "metadata": {},
   "outputs": [
    {
     "name": "stdout",
     "output_type": "stream",
     "text": [
      "EC96_01\n",
      "102400\n",
      "128\n",
      "EC107_01\n",
      "124000\n",
      "276\n",
      "EC133_03\n",
      "n/a\n",
      "197504\n",
      "276\n",
      "EC229_02\n",
      "119008\n",
      "276\n"
     ]
    }
   ],
   "source": [
    "for pt in pt_data:\n",
    "    \n",
    "    pt_i = pt_data.index(pt)\n",
    "    sz_name = sz_data[pt_i]\n",
    "\n",
    "    pt_path = avg_change_path + pt + '/'\n",
    "    os.chdir(pt_path)\n",
    "    pt_dir = os.listdir(pt_path)\n",
    "    \n",
    "    for sz_name in sz_data:\n",
    "        \n",
    "        if sz_name in pt_dir:\n",
    "            print(sz_name)\n",
    "            \n",
    "            sz_path = pt_path + sz_data[pt_i]\n",
    "            os.chdir(sz_path)\n",
    "            \n",
    "            \n",
    "            df = pd.read_csv(sz_name + '_mat.csv',usecols = [sx_input])\n",
    "            try:\n",
    "                mx_index = df.index[df[sx_input]==int(mx_input)]\n",
    "                first_mx = mx_index[0]\n",
    "                # print(first_mx)\n",
    "            except IndexError:\n",
    "                print('n/a')\n",
    "                \n",
    "                \n",
    "                \n",
    "            sz_mat = loadmat(sz_name +'.mat')      \n",
    "            ppEEG = sz_mat['ppEEG']\n",
    "\n",
    "            #load fs, ppEEG, study\n",
    "            try:\n",
    "                fs = [[element for element in upperElement] for upperElement in sz_mat['fs']]\n",
    "\n",
    "                ppEEG_col = len(sz_mat['ppEEG'][0])\n",
    "                print(ppEEG_col)\n",
    "                ppEEG_row = len(sz_mat['ppEEG'])\n",
    "                print(ppEEG_row)\n",
    "                ppEEG_mx = round((first_mx/5)*fs[0][0])\n",
    "                ppEEG_list = []\n",
    "                for p in range(0,ppEEG_row-1):\n",
    "                    ppEEG_list.append(ppEEG[p][ppEEG_mx])\n",
    "                \n",
    "#                 try:\n",
    "#                     print(type(ppEEG))\n",
    "#                     # mx_col = ppEEG[1][round(ppEEG_mx)]\n",
    "#                     # print(mx_col)\n",
    "#                 except:\n",
    "#                     print('mx_col no work')\n",
    "            except:\n",
    "                print('no fs or ppEEG')\n",
    "            del sz_mat\n",
    "\n",
    "        #load electrodes -- anatomy, eleclabels, elecmatrix\n",
    "        # os.chdir(path3)"
   ]
  },
  {
   "cell_type": "markdown",
   "id": "431374cd-a846-46db-8ecf-4910e5ba6c71",
   "metadata": {
    "tags": []
   },
   "source": [
    "## Load frame speed and ppEEG"
   ]
  },
  {
   "cell_type": "code",
   "execution_count": 11,
   "id": "6661aba9-76c8-4a91-b2aa-0286958c5414",
   "metadata": {},
   "outputs": [],
   "source": [
    "        # path2 = os.path.join(path1,sz_name)\n",
    "        # os.chdir(pt_path)\n",
    "        # elecs_path = os.path.join(pt_path,'Imaging/elecs')\n",
    "        # os.chdir(elecs_path)\n"
   ]
  },
  {
   "cell_type": "markdown",
   "id": "97414094-6988-4387-b2d4-78169e445ca3",
   "metadata": {},
   "source": [
    "## Collect linelength weight times"
   ]
  },
  {
   "cell_type": "code",
   "execution_count": null,
   "id": "fc30947d-2ca7-4a0b-b435-8747e82d3012",
   "metadata": {},
   "outputs": [],
   "source": [
    "#load sfx from .mat\n",
    "seconds = (first_mx / 5 * sfx)\n"
   ]
  },
  {
   "cell_type": "code",
   "execution_count": 10,
   "id": "75045197-5cce-41ed-9961-1c64c28f6bc6",
   "metadata": {},
   "outputs": [],
   "source": [
    "            #COLLECT LL WEIGHT TIMES \n",
    "            \n",
    "            #find first occurance of either 1, 2, or 3 \n",
    "#             td_perdur = pd.Timedelta(int(perdur_input), \"s\")\n",
    "            \n",
    "    \n",
    "#             ll_weight_times.append(pd.Timedelta(mx_index / 5) + sem_first)\n",
    "#             ll_weight_times.append(pd.Timedelta(mx_index / 5) + sem_first - td_perdur)\n",
    "#             ll_weight_times.append(pd.Timedelta(mx_index / 5) + sem_first + td_perdur)\n",
    "\n",
    "            #collect sorting index\n",
    "            #collect relevant snippet from ll based on ll_weight_times\n",
    "            "
   ]
  },
  {
   "cell_type": "markdown",
   "id": "e1678da1-465a-422e-9861-b5c9a341eb01",
   "metadata": {},
   "source": [
    "## Load semiology matrix"
   ]
  },
  {
   "cell_type": "code",
   "execution_count": null,
   "id": "76c018c4-fc13-402e-b11c-fb0de7a961c6",
   "metadata": {
    "jupyter": {
     "source_hidden": true
    },
    "tags": []
   },
   "outputs": [],
   "source": [
    "            # print(df)\n",
    "            # time_mat_file = '_'.join([sz_name,'time_mat.csv'])\n",
    "            \n",
    "\n",
    "#             with open(time_mat_file,'r') as sz_time_mat:\n",
    "                \n",
    "#                 time_mat_csv_list = list(csv.reader(sz_time_mat))\n",
    "\n",
    "#                 vid_start = time_mat_csv_list[1][0]\n",
    "#                 vid_end = time_mat_csv_list[1][1]\n",
    "#                 mat_start = time_mat_csv_list[1][2]\n",
    "#                 mat_end = time_mat_csv_list[1][3]\n",
    "\n",
    "#                 td_vid_start = pd.Timedelta(vid_start)\n",
    "#                 td_vid_end = pd.Timedelta(vid_end)\n",
    "\n",
    "\n",
    "#                 td_mat_start = pd.Timedelta(mat_start)\n",
    "#                 td_mat_end = pd.Timedelta(mat_end)\n",
    "\n",
    "#                 td_vid_dur = td_vid_end - td_vid_start\n",
    "#                 # print(td_vid_dur)\n",
    "#                 td_mat_dur = td_mat_end - td_mat_start\n",
    "#                 # print(td_mat_dur)\n",
    "\n",
    "\n",
    "#                 #if params vid start == start of video\n",
    "#             # print(params_list[num][:])\n",
    "#     #                 td_params_stop = pd.Timedelta(int(params_vid_stop), \"s\")\n",
    "\n",
    "\n",
    "#     #                 short_vid_start = td_mat_start + td_mat_dur - td_params_stop\n",
    "#                 sem_first = td_mat_start - td_vid_start\n",
    "#                 sem_last = sem_first + td_mat_dur\n",
    "#                 sem_period = [sem_first, sem_last]\n",
    "\n",
    "\n",
    "#                 #convert sem_first in m:s.ms --> # of 200 ms \n",
    "#                 #pad with sem_first \n",
    "#                 pad_start_ms = sem_first.total_seconds() #* 1000 \n",
    "#                 print(sz_name)\n",
    "                \n",
    "#                 print('col num:', df.size) #size should be vid dur + 1\n",
    "\n",
    "#                 print('vid dur in 200 ms:', (td_vid_dur).total_seconds()* 5 )\n",
    "\n",
    "#                 print('mat in 200 ms:', (td_mat_dur).total_seconds()*5)\n",
    "#                 # print('mat dur:', (td_mat_dur).total_seconds()*1000/5)\n",
    "#                 print('pad start with:', pad_start_ms*5)\n",
    "                \n",
    "# #                 x = np.full([1,2,3],np.nan)\n",
    "# #                 x = np.empty(int(pad_start_ms/5))\n",
    "# #                 x.fill(np.nan)\n",
    "# #                 print(int(pad_end_ms/5))\n",
    "\n",
    "# #                 print(x)\n",
    "\n",
    "\n",
    "#             # x = nan(pad_start_ms/5)\n",
    "\n",
    "#                 if td_mat_end < td_vid_end:\n",
    "#                     td_pad_end = td_vid_end - td_mat_end\n",
    "#                     pad_end_ms = td_pad_end.total_seconds() #* 1000\n",
    "#                     print('pad end with:', pad_end_ms*5)\n",
    "\n",
    "#                 elif td_mat_end > td_vid_end:\n",
    "#                     td_trim_end = td_mat_end - td_vid_end\n",
    "#                     trim_end_ms = td_trim_end.total_seconds() #* 1000\n",
    "\n",
    "#                     print('trim end by:', trim_end_ms*5)\n",
    "#                 elif td_vid_end == td_mat_end:\n",
    "#                     print(td_vid_end)\n",
    "#                     print(td_mat_end)"
   ]
  },
  {
   "cell_type": "markdown",
   "id": "b5f4ad88-87cc-4865-ac8b-4808e6da2d50",
   "metadata": {},
   "source": [
    "## Find first occurance of mode"
   ]
  },
  {
   "cell_type": "code",
   "execution_count": 8,
   "id": "6a6818eb-c818-49fb-9dee-0931edd61092",
   "metadata": {
    "tags": []
   },
   "outputs": [],
   "source": [
    "#make applicable to multiple seizures from single patient        \n",
    "        # params_vid_start = df_params.loc['EC96']['VIDstart']\n",
    "        # print(params_vid_start)\n",
    "        # params_vid_stop = df_params.loc['EC96']['VIDstop']\n",
    "        # print(params_vid_stop)"
   ]
  },
  {
   "cell_type": "markdown",
   "id": "c1734051-af3d-4242-be98-4210d8d03499",
   "metadata": {},
   "source": [
    "Extract parameters"
   ]
  },
  {
   "cell_type": "markdown",
   "id": "8e3d0278-8746-4a24-9b6d-169bcf330a14",
   "metadata": {},
   "source": [
    "Set path and initialize variables for semiology and time matrix"
   ]
  },
  {
   "cell_type": "code",
   "execution_count": 9,
   "id": "6bca888a-269b-4444-a8d0-b5138c2a64bc",
   "metadata": {},
   "outputs": [],
   "source": [
    "            \n",
    "\n",
    "        #load symptom matrix (mat.csv) and time matrix (time_mat.csv) and electrode info over time matrix (sz.mat)\n",
    "            # os.chdir(path2)\n",
    "\n",
    "            # mat_file = '_'.join([sz_name,'mat.csv'])\n"
   ]
  },
  {
   "cell_type": "markdown",
   "id": "c054027c-bb67-4cb6-b423-bf1ea55ddc64",
   "metadata": {},
   "source": [
    "Load time matrix and match up with video and semiology matrix"
   ]
  },
  {
   "cell_type": "code",
   "execution_count": 13,
   "id": "1f957a24-fe37-49ac-b56a-5c454fbcd748",
   "metadata": {},
   "outputs": [],
   "source": [
    "            \n",
    "#             elecs_mat = loadmat('clinical_elecs_all.mat')            \n",
    "        \n",
    "#                 #load anatomy\n",
    "#             anatomy = [[element for element in upperElement] for upperElement in elecs_mat['anatomy']]\n",
    "            # eleclabels = [[element for element in upperElement] for upperElement in elecs_mat['eleclabels']]\n",
    "            # elecmatrix = [[element for element in upperElement] for upperElement in elecs_mat['elecmatrix']]\n",
    "            \n",
    "            \n",
    "            \n",
    "            #TRY/EXCEPT INSTEAD\n",
    "            # make sure variables are present\n",
    "#             if 'anatomy' in locals() or 'anatomy' in globals():\n",
    "#                 #collect neuroanatomy by row\n",
    "#                 for a_row in range(0,np.size(anatomy,0)):\n",
    "#                     if np.size(anatomy[a_row][3]) == 1:\n",
    "#                         anat.append(anatomy[a_row][3][0])\n",
    "#                 del anatomy\n",
    "\n",
    "                "
   ]
  },
  {
   "cell_type": "code",
   "execution_count": null,
   "id": "67b4e8e3-023b-4a20-b371-51b37df074ee",
   "metadata": {},
   "outputs": [],
   "source": []
  },
  {
   "cell_type": "code",
   "execution_count": null,
   "id": "26bc1cc3-37af-4968-b3d2-de6fb82b4c5d",
   "metadata": {},
   "outputs": [],
   "source": []
  },
  {
   "cell_type": "code",
   "execution_count": null,
   "id": "62936a37-83d0-4616-9936-8ae9a7f0eb13",
   "metadata": {},
   "outputs": [],
   "source": []
  },
  {
   "cell_type": "code",
   "execution_count": null,
   "id": "710c6409-dee3-4e49-bd20-3e5fee968797",
   "metadata": {},
   "outputs": [],
   "source": []
  }
 ],
 "metadata": {
  "kernelspec": {
   "display_name": "Python 3 (ipykernel)",
   "language": "python",
   "name": "python3"
  },
  "language_info": {
   "codemirror_mode": {
    "name": "ipython",
    "version": 3
   },
   "file_extension": ".py",
   "mimetype": "text/x-python",
   "name": "python",
   "nbconvert_exporter": "python",
   "pygments_lexer": "ipython3",
   "version": "3.9.7"
  }
 },
 "nbformat": 4,
 "nbformat_minor": 5
}
