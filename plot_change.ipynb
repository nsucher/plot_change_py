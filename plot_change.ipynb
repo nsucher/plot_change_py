{
 "cells": [
  {
   "cell_type": "markdown",
   "id": "88e06506-4984-4626-9860-6ffc5ffc8df7",
   "metadata": {},
   "source": [
    "plot_change.py: Generate significance of electrode weight changes at neuroanatomical sites"
   ]
  },
  {
   "cell_type": "markdown",
   "id": "440d16a1-af04-48fb-a299-6577a6697063",
   "metadata": {},
   "source": [
    "## Pseudocode:\n",
    "    . Import\n",
    "    . Input symptom, mode, perdur\n",
    "    . Define functions\n",
    "    . Load Parameters\n",
    "    . For Loop through seizures"
   ]
  },
  {
   "cell_type": "markdown",
   "id": "5a0a6cc7-830d-4219-9ea4-de99aa7f2d08",
   "metadata": {
    "tags": []
   },
   "source": [
    "## Import"
   ]
  },
  {
   "cell_type": "code",
   "execution_count": 1,
   "id": "8fd52eb6-be5b-4151-8ea1-4e3a9c153ac6",
   "metadata": {
    "tags": []
   },
   "outputs": [],
   "source": [
    "import csv\n",
    "import os\n",
    "import pathlib\n",
    "import numpy as np\n",
    "from scipy.io import loadmat\n",
    "from scipy.signal import butter,filtfilt\n",
    "from scipy.stats import ttest_1samp\n",
    "\n",
    "#\n",
    "import pandas as pd\n",
    "# from plot_change_module import *"
   ]
  },
  {
   "cell_type": "code",
   "execution_count": 2,
   "id": "9f231bde-295d-47fa-9cf0-b54537936282",
   "metadata": {
    "tags": []
   },
   "outputs": [],
   "source": [
    "neuroanat_list = ['frontalpole', #FRONTAL LOBE\n",
    "    'parstriangularis',\n",
    "    'parsopercularis',\n",
    "    'parsorbitalis',\n",
    "    'rostralmiddlefrontal',\n",
    "    'caudalmiddlefrontal',\n",
    "    'lateralorbitofrontal',\n",
    "    'superiorfrontal',\n",
    "    'medialorbitofrontal',\n",
    "    'precentral',\n",
    "    'postcentral', # PARIETAL LOBE\n",
    "    'inferiorparietal',   \n",
    "    'superiorparietal',\n",
    "    'supramarginal',\n",
    "    'temporalpole', # TEMPORAL LOBE\n",
    "    'middletemporal',\n",
    "    'superiortemporal',\n",
    "    'inferiortemporal',\n",
    "    'parahippocampal',               \n",
    "    'Right-Hippocampus',\n",
    "    'Left-Hippocampus',\n",
    "    'Right-Amygdala',\n",
    "    'Left-Amygdala',\n",
    "    'entorhinal',\n",
    "    'bankssts',\n",
    "    'fusiform', # OCCIPITAL LOBE                \n",
    "    'lingual'];\n",
    "    # 'Right-Inf-Lat-Vent', # OTHER\n",
    "    # 'Right-Cerebral-White-Matter',\n",
    "    # 'Left-Cerebral-White-Matter',\n",
    "    # 'Right-choroid-plexus',\n",
    "    # 'Right-Putamen',\n",
    "    # 'Right-VentralDC'];"
   ]
  },
  {
   "cell_type": "markdown",
   "id": "19eca60b-2e93-4c30-ba16-e35db39abb42",
   "metadata": {
    "tags": []
   },
   "source": [
    "## Input symptom, mode, and duration"
   ]
  },
  {
   "cell_type": "code",
   "execution_count": 3,
   "id": "2969037b-4679-4dd4-a181-9d421a5e5c0f",
   "metadata": {
    "tags": []
   },
   "outputs": [],
   "source": [
    "sx_input = 'lhx'\n",
    "mx_input = '2'\n",
    "perdur_input = '10'"
   ]
  },
  {
   "cell_type": "markdown",
   "id": "961e9f4d-0033-46b7-8aae-3c4f091e5f2b",
   "metadata": {},
   "source": [
    "## Define Functions"
   ]
  },
  {
   "cell_type": "code",
   "execution_count": 4,
   "id": "52e545f1-2cd5-40d4-845a-9fe80791e16b",
   "metadata": {
    "tags": []
   },
   "outputs": [],
   "source": [
    "def sem_w8s(LL_s,at_onset,before_onset,after_onset):\n",
    "    print('mr.longtime sem_w')\n",
    "\n",
    "    row_num = np.shape(LL_s)[0]\n",
    "    LL_meandiff = np.empty(row_num,)\n",
    "    for row in range(0,row_num-1): #for each channel in LL   \n",
    "        LL_meandiff[row] = np.mean(LL_s[row,int(at_onset):int(after_onset)]) - np.mean(LL_s[row,int(before_onset):int(at_onset)])\n",
    "\n",
    "    return LL_meandiff"
   ]
  },
  {
   "cell_type": "code",
   "execution_count": 5,
   "id": "28cd3192-50b2-4321-8348-426b3cef1e6e",
   "metadata": {
    "tags": []
   },
   "outputs": [],
   "source": [
    "# def ll_sort(LL,anat,neuroanat_list):\n",
    "#     print('mr.longtime ll_s')\n",
    "\n",
    "    \n",
    "# #     u_anat = np.unique(anat)\n",
    "# #     u_anat_i = len(u_anat)\n",
    "# #     print(u_anat_i)\n",
    "\n",
    "    \n",
    "    \n",
    "    \n",
    "#     a_count = 0\n",
    "#     n_count = 0\n",
    "#     y_count = 0\n",
    "    \n",
    "#     n_list = []\n",
    "#     y_list = []\n",
    "#     LL_s = np.empty([np.shape(anat)[0],np.shape(LL)[1]])\n",
    "#     LL_s[:] = np.NaN\n",
    "    \n",
    "#     for n_a in neuroanat_list:\n",
    "#         a_count = 0\n",
    "#         for a_c in anat:\n",
    "#             if np.size(a_c) > 0: \n",
    "#                 if n_a == a_c:\n",
    "#                  #collect ll data\n",
    "#                     n_list.append(n_a) #collect all neuroanat str\n",
    "                    \n",
    "#                     LL_s[n_count,:] = LL[a_count,:]\n",
    "                    \n",
    "#                     # print(a_c)\n",
    "# #                     print(LL[a_count,0])\n",
    "                    \n",
    "                    \n",
    "# #                     print(n_list[n_count])\n",
    "# #                     print(LL_s[n_count,0])\n",
    "#                     n_count += 1\n",
    "            \n",
    "#                     #sort into unique y tick labels\n",
    "#                     if n_a not in y_list:\n",
    "#                         y_list.append(n_a) #collect only non-repeating neuroanat str  \n",
    "#                         # y_count += 1\n",
    "#                         #find index of first and last appearance of neuroanat str, divide by two for ytick\n",
    "#             a_count += 1\n",
    "#     # print(a_count)\n",
    "#     return LL_s,n_list,y_list                     "
   ]
  },
  {
   "cell_type": "code",
   "execution_count": 6,
   "id": "f14ce657-1f47-44f7-923c-42c795e62dc0",
   "metadata": {
    "tags": []
   },
   "outputs": [],
   "source": [
    "def ll_transform(llw,fs,d,bl_start,bl_stop):\n",
    "    print('mr.longtime ll_t')\n",
    "    \n",
    "    if bl_start == 0:\n",
    "        sample_bl_start = 0\n",
    "    elif bl_start > 0:\n",
    "        sample_bl_start = (fs*bl_start)[0] #0 because it's python not matlab\n",
    "    sample_bl_end = (fs*bl_stop)[0]-1\n",
    "    \n",
    "    L = int(np.round(llw * fs) - 1) # number of samples to calculate line length\n",
    "    \n",
    "    col_len = np.shape(d)[1]-L\n",
    "    \n",
    "    LL = np.empty([np.shape(d)[0],col_len])\n",
    "    \n",
    "    LL[:] = np.NaN        \n",
    "    \n",
    "    for col_1 in range(0,col_len):\n",
    "        LL[:,col_1] = np.sum(np.abs(np.diff(d[:,col_1:col_1+L])),1)\n",
    "\n",
    "\n",
    "    for row_1 in range(0,np.shape(d)[0]):    \n",
    "        LL_nanmean = np.nanmean(LL[row_1,sample_bl_start:sample_bl_end])\n",
    "        LL_nanstd = np.nanstd(LL[row_1,sample_bl_start:sample_bl_end])\n",
    "                                              \n",
    "        LL[row_1,:] = (LL[row_1,:] - LL_nanmean)/LL_nanstd\n",
    "        \n",
    "            \n",
    "    return LL\n"
   ]
  },
  {
   "cell_type": "code",
   "execution_count": 7,
   "id": "d561c82e-d149-4138-a9be-23d4ce572b3c",
   "metadata": {
    "tags": []
   },
   "outputs": [],
   "source": [
    "def open_xl(xl_name): \n",
    "    \n",
    "    df = pd.read_excel(xl_name, index_col=0, engine='openpyxl')\n",
    "\n",
    "    return df\n"
   ]
  },
  {
   "cell_type": "code",
   "execution_count": 8,
   "id": "fbc92d79-bddb-4528-8d97-ba0717d4b31c",
   "metadata": {
    "tags": []
   },
   "outputs": [],
   "source": [
    "def filt(d,fs):\n",
    "    d_t = d.transpose()\n",
    "    \n",
    "    butter_array = np.array([1,(round(fs[0]/2)-1)])\n",
    "    b,a = butter(2,butter_array/(fs[0]/2),btype='bandpass',output='ba')\n",
    "    \n",
    "    filt_d = filtfilt(b,a,d_t,axis=0,padtype='odd',padlen=3*(max(len(b),len(a))-1)).transpose()\n",
    "\n",
    "    return filt_d\n"
   ]
  },
  {
   "cell_type": "code",
   "execution_count": 9,
   "id": "40c88715-9b46-4a74-8dcb-03f73c084631",
   "metadata": {
    "tags": []
   },
   "outputs": [],
   "source": [
    "def load_elecs_anat(pt_path):\n",
    "                \n",
    "    #load anatomy and electrode matrix\n",
    "    os.chdir(pt_path + 'Imaging/elecs')\n",
    "    e_mat = loadmat('clinical_elecs_all.mat')\n",
    "    anat_col = e_mat['anatomy'][:,3]\n",
    "            \n",
    "    return anat_col\n"
   ]
  },
  {
   "cell_type": "code",
   "execution_count": 10,
   "id": "c9e2c6ac-8c03-4760-9ef2-9ae748e4d5c0",
   "metadata": {
    "tags": []
   },
   "outputs": [],
   "source": [
    "def get_params(df_params,pt):\n",
    "    params_bl_start = df_params.loc[pt]['BLstart']\n",
    "    params_bl_stop = df_params.loc[pt]['BLstop']\n",
    "    params_llw = df_params.loc[pt]['llw']\n",
    "\n",
    "    return params_bl_start, params_bl_stop, params_llw"
   ]
  },
  {
   "cell_type": "code",
   "execution_count": 11,
   "id": "d921d6b3-d7b7-4a04-9129-24b008139d9c",
   "metadata": {
    "tags": []
   },
   "outputs": [],
   "source": [
    "def get_ptsz(avg_change_path): #Load list of patient and seizure names\n",
    "    os.chdir(avg_change_path)\n",
    "    \n",
    "    df_params = open_xl('OPSCEAparams.xlsx') # Ndimensions and params_list\n",
    "\n",
    "    with open('sz_name_list.csv','r') as sz_names:\n",
    "        sz_names_list = list(csv.reader(sz_names))\n",
    "        sz_rows = np.size(sz_names_list,0) #find row num \n",
    "        pt_data = []\n",
    "        sz_data= []\n",
    "        for r in range(0,sz_rows):  #collect symptom data for specfic seizure in list\n",
    "            pt_data.append(sz_names_list[r][0]) \n",
    "            sz_data.append(sz_names_list[r][1]) \n",
    "    return pt_data, sz_data, df_params"
   ]
  },
  {
   "cell_type": "markdown",
   "id": "56cc9cd3-5a37-4f35-89f9-2b70ceeb1375",
   "metadata": {},
   "source": [
    "## For loop through patients in list matching seizure"
   ]
  },
  {
   "cell_type": "code",
   "execution_count": 12,
   "id": "653f1d70-cfdc-4bb9-956f-3377113b350d",
   "metadata": {
    "tags": []
   },
   "outputs": [
    {
     "name": "stdout",
     "output_type": "stream",
     "text": [
      "EC96_01\n",
      "mr.longtime ll_t\n",
      "mr.longtime sem_w\n",
      "(96,)\n"
     ]
    },
    {
     "ename": "TypeError",
     "evalue": "'tuple' object does not support item assignment",
     "output_type": "error",
     "traceback": [
      "\u001b[0;31m---------------------------------------------------------------------------\u001b[0m",
      "\u001b[0;31mTypeError\u001b[0m                                 Traceback (most recent call last)",
      "\u001b[0;32m/var/folders/yg/mdppj78s1zg98yqntmdjd3xw0000gn/T/ipykernel_80968/60509362.py\u001b[0m in \u001b[0;36m<module>\u001b[0;34m\u001b[0m\n\u001b[1;32m     68\u001b[0m \u001b[0;34m\u001b[0m\u001b[0m\n\u001b[1;32m     69\u001b[0m                 \u001b[0mpval\u001b[0m \u001b[0;34m=\u001b[0m \u001b[0mnp\u001b[0m\u001b[0;34m.\u001b[0m\u001b[0mshape\u001b[0m\u001b[0;34m(\u001b[0m\u001b[0mlen\u001b[0m\u001b[0;34m(\u001b[0m\u001b[0mneuroanat_list\u001b[0m\u001b[0;34m)\u001b[0m\u001b[0;34m)\u001b[0m\u001b[0;34m\u001b[0m\u001b[0;34m\u001b[0m\u001b[0m\n\u001b[0;32m---> 70\u001b[0;31m                 \u001b[0mpval\u001b[0m\u001b[0;34m[\u001b[0m\u001b[0;34m:\u001b[0m\u001b[0;34m]\u001b[0m \u001b[0;34m=\u001b[0m \u001b[0mnp\u001b[0m\u001b[0;34m.\u001b[0m\u001b[0mNaN\u001b[0m\u001b[0;34m\u001b[0m\u001b[0;34m\u001b[0m\u001b[0m\n\u001b[0m\u001b[1;32m     71\u001b[0m \u001b[0;34m\u001b[0m\u001b[0m\n\u001b[1;32m     72\u001b[0m                 \u001b[0manat_w8s\u001b[0m \u001b[0;34m=\u001b[0m \u001b[0mnp\u001b[0m\u001b[0;34m.\u001b[0m\u001b[0mempty\u001b[0m\u001b[0;34m(\u001b[0m\u001b[0mlen\u001b[0m\u001b[0;34m(\u001b[0m\u001b[0mneuroanat_list\u001b[0m\u001b[0;34m)\u001b[0m\u001b[0;34m)\u001b[0m\u001b[0;34m\u001b[0m\u001b[0;34m\u001b[0m\u001b[0m\n",
      "\u001b[0;31mTypeError\u001b[0m: 'tuple' object does not support item assignment"
     ]
    }
   ],
   "source": [
    "avg_change_path = '/Users/nataliasucher/Desktop/UCSF/Coding/OPSCEA/OPSCEADATA/avg_change_folders/'\n",
    "\n",
    "pt_data,sz_data,df_params = get_ptsz(avg_change_path) #Ehsan\n",
    "\n",
    "# for neuro_struc in neuroanat_list:\n",
    "\n",
    "#For loop through patients\n",
    "for i in range(len(pt_data)):  #Ehsan\n",
    "    pt_i = pt_data[i]          #Ehsan\n",
    "    sz_name = sz_data[i]       #Ehsan\n",
    "\n",
    "    pt_path = avg_change_path + pt_i + '/'\n",
    "    os.chdir(pt_path)\n",
    "    pt_dir = os.listdir(pt_path)\n",
    "\n",
    "    for sz_name in sz_data: \n",
    "\n",
    "        if sz_name in pt_dir: #patients in list matching seizure\n",
    " \n",
    "            print(sz_name)\n",
    "            \n",
    "            # PARAMS\n",
    "            blstart, blstop, llw = get_params(df_params,pt_i) # 2 = params_llw\n",
    "\n",
    "            # ANAT \n",
    "            anat = load_elecs_anat(pt_path)\n",
    "            \n",
    "            \n",
    "            # SEMIOLOGY\n",
    "            sz_path = pt_path + sz_data[i]\n",
    "            os.chdir(sz_path)\n",
    "\n",
    "            sx_vec = pd.read_csv(sz_name + '_mat.csv',usecols = [sx_input]).values.tolist() #load semiology matrix .csv             #WANT TO JUST LOAD 1 COLUMN SX_INPUT            \n",
    "            \n",
    "            if np.float64(mx_input) in sx_vec:\n",
    "            \n",
    "                sz_mat = loadmat(sz_name +'.mat') #load frame speed and ppEEG\n",
    "                fs = sz_mat['fs'].flatten()\n",
    "                # d = sz_mat['ppEEG'][0:np.shape(anat)[0],(fs*blstart)[0]:] \n",
    "                d = sz_mat['ppEEG'][0:np.shape(anat)[0],:]\n",
    "                \n",
    "                badch_mat = loadmat(sz_name + '_badch.mat')\n",
    "                badch = badch_mat['bad_chs']\n",
    "                \n",
    "                badch = np.delete(badch,range(np.shape(anat)[0],np.shape(badch)[0]),0)\n",
    "\n",
    "                for a_i in range(0,np.shape(anat)[0]):\n",
    "                    if np.size(anat[a_i]) > 0: \n",
    "                        if anat[a_i][0] not in neuroanat_list:\n",
    "                            badch[a_i][0] = 1 #prepare for anatomy not in neuroanat list to be deleted in d and anat\n",
    "                \n",
    "                bad_logical = np.any(badch,1)\n",
    "                d = d[~bad_logical,:]\n",
    "                anat = anat[~bad_logical]\n",
    "\n",
    "                filt_d = filt(d,fs) #Filter out < 1 Hz (and up to nyquist)\n",
    "    \n",
    "                LL = ll_transform(llw,fs,filt_d,blstart,blstop) \n",
    "            \n",
    "                #                 \n",
    "                at_onset = np.round(((sx_vec.index(np.float64(mx_input)))/5) * fs)\n",
    "                before_onset = np.round(((sx_vec.index(np.float64(mx_input))/5) - float(perdur_input)) * fs)\n",
    "                after_onset = np.round(((sx_vec.index(np.float64(mx_input))/5) + float(perdur_input)) * fs)\n",
    "\n",
    "                LL_meandiff = sem_w8s(LL,at_onset,before_onset,after_onset)\n",
    "                \n",
    "                print(np.shape(LL_meandiff))\n",
    "                \n",
    "                pval = np.shape(len(neuroanat_list))\n",
    "                pval[:] = np.NaN\n",
    "\n",
    "                anat_w8s = np.empty(len(neuroanat_list))\n",
    "                anat_w8s = np.NaN\n",
    "                \n",
    "                for n_l in range(0,len(neuroanat_list)):\n",
    "                    if neuroanat_list[n_l] is in anat:\n",
    "                        #clump together all the ones that match right amygdala\n",
    "                    \n",
    "                        #STRING COMPARISON \n",
    "                        anat_index = strcmpi neuroanat_list[n_l] & anat\n",
    "                        anat_w8s = LL_meandiff[anat_index]\n",
    "                        tstat, pval[n_l] = ttest_1samp(anat_w8s,0)\n",
    "                        plot() #red if significant \n",
    "        #subplot outside the for loop \n",
    "        #nl = x val, anat_w8s\n",
    "         "
   ]
  },
  {
   "cell_type": "code",
   "execution_count": null,
   "id": "481c31ad-bf54-43c4-b8de-942f175df0d5",
   "metadata": {},
   "outputs": [],
   "source": []
  }
 ],
 "metadata": {
  "kernelspec": {
   "display_name": "Python 3 (ipykernel)",
   "language": "python",
   "name": "python3"
  },
  "language_info": {
   "codemirror_mode": {
    "name": "ipython",
    "version": 3
   },
   "file_extension": ".py",
   "mimetype": "text/x-python",
   "name": "python",
   "nbconvert_exporter": "python",
   "pygments_lexer": "ipython3",
   "version": "3.9.7"
  }
 },
 "nbformat": 4,
 "nbformat_minor": 5
}
