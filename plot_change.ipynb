{
 "cells": [
  {
   "cell_type": "markdown",
   "id": "88e06506-4984-4626-9860-6ffc5ffc8df7",
   "metadata": {},
   "source": [
    "plot_change.py: Generate significance of electrode weight changes at neuroanatomical sites"
   ]
  },
  {
   "cell_type": "markdown",
   "id": "440d16a1-af04-48fb-a299-6577a6697063",
   "metadata": {},
   "source": [
    "## Pseudocode:\n",
    "    . Import\n",
    "    . Define functions\n",
    "    . Input symptom, mode, perdur\n",
    "    . Load Parameters\n",
    "    . For Loop through seizures"
   ]
  },
  {
   "cell_type": "markdown",
   "id": "5a0a6cc7-830d-4219-9ea4-de99aa7f2d08",
   "metadata": {
    "tags": []
   },
   "source": [
    "## Import"
   ]
  },
  {
   "cell_type": "code",
   "execution_count": 1,
   "id": "8fd52eb6-be5b-4151-8ea1-4e3a9c153ac6",
   "metadata": {
    "tags": []
   },
   "outputs": [],
   "source": [
    "import csv\n",
    "import os\n",
    "import pathlib\n",
    "import numpy as np\n",
    "from scipy.io import loadmat\n",
    "from scipy import signal\n",
    "\n",
    "#\n",
    "import pandas as pd\n",
    "import datetime\n",
    "# from plot_change_module import *"
   ]
  },
  {
   "cell_type": "markdown",
   "id": "961e9f4d-0033-46b7-8aae-3c4f091e5f2b",
   "metadata": {},
   "source": [
    "## Define Functions"
   ]
  },
  {
   "cell_type": "code",
   "execution_count": 2,
   "id": "1de7e19a-6252-454c-a42b-ca6cd715ac42",
   "metadata": {
    "jupyter": {
     "source_hidden": true
    },
    "tags": []
   },
   "outputs": [],
   "source": [
    "def open_csv(mat_file):\n",
    "    \n",
    "    with open(mat_file,'r') as sz_mat:\n",
    "        mat_csv_list = list(csv.reader(sz_mat))\n",
    "\n",
    "        all_sx = mat_csv_list[0] #collect symptom abbreviations\n",
    "        sx_col = all_sx.index(sx_input) #find col num of symptom\n",
    "        csv_rows = np.size(mat_csv_list,0) #find row num \n",
    "\n",
    "        for r in range(1,csv_rows):  #collect symptom data for specfic seizure in list\n",
    "            sx_data.append(mat_csv_list[r][sx_col]) \n",
    "\n",
    "        try: \n",
    "            mx_index = sx_data.index(mx_input) #find row num of first occurance of mode  \n",
    "            return mx_index\n",
    "\n",
    "        except ValueError:\n",
    "            print('no matching mode')\n",
    "            "
   ]
  },
  {
   "cell_type": "code",
   "execution_count": 3,
   "id": "d561c82e-d149-4138-a9be-23d4ce572b3c",
   "metadata": {
    "jupyter": {
     "source_hidden": true
    },
    "tags": []
   },
   "outputs": [],
   "source": [
    "def open_xl(xl_name): \n",
    "    # df = pd.read_excel(xl_name)\n",
    "    # Ndimensions = df.shape #row, col\n",
    "    # params_list = df.values.tolist()\n",
    "    \n",
    "    df = pd.read_excel(xl_name, index_col=0, engine='openpyxl')\n",
    "\n",
    "    return df\n"
   ]
  },
  {
   "cell_type": "code",
   "execution_count": 4,
   "id": "fbc92d79-bddb-4528-8d97-ba0717d4b31c",
   "metadata": {
    "jupyter": {
     "source_hidden": true
    },
    "tags": []
   },
   "outputs": [],
   "source": [
    "def ll_weights(sz_name,perdur_input,em_row,params_llw,ppEEG,t_ppEEG,df,fs):\n",
    "    try:\n",
    "        mx_index = df.index[df[sx_input]==int(mx_input)] # time of symptom \n",
    "            #load fs, ppEEG, study\n",
    "\n",
    "        ppEEG_col = len(sz_mat['ppEEG'][0])\n",
    "        ppEEG_row = len(sz_mat['ppEEG'])\n",
    "\n",
    "        try: #find index of symptom onset \n",
    "            ppEEG_mx = round(((mx_index[0])/5)*fs[0])\n",
    "            print(ppEEG_mx)\n",
    "            ppEEG_perdur = int(perdur_input) * fs[0]\n",
    "\n",
    "            ppEEG_onset_list = []\n",
    "            ppEEG_before_list = []\n",
    "            ppEEG_after_list = []\n",
    "\n",
    "                  \n",
    "            for p in range(0,em_row): #create lists of symptom onset times before and after perdur\n",
    "                ppEEG_onset_list.append(ppEEG[p][ppEEG_mx]) #at exact onset\n",
    "                # t_ppEEG_onset_list.append(t_ppEEG[ppEEG_mx][p]) #at exact onset\n",
    "\n",
    "                ppEEG_before_list.append(ppEEG[p][ppEEG_mx-ppEEG_perdur])  #perdur before\n",
    "                ppEEG_after_list.append(ppEEG[p][ppEEG_mx+ppEEG_perdur])   #perdur after\n",
    "            return ppEEG_onset_list,ppEEG_before_list,ppEEG_after_list#,t_ppEEG_onset_list\n",
    "            # return t_ppEEG_onset_list\n",
    "        except: \n",
    "            print('no ppEEG_mx')\n",
    "\n",
    "    except IndexError:\n",
    "        print('no index or ppEEG')\n"
   ]
  },
  {
   "cell_type": "code",
   "execution_count": 5,
   "id": "40c88715-9b46-4a74-8dcb-03f73c084631",
   "metadata": {
    "jupyter": {
     "source_hidden": true
    },
    "tags": []
   },
   "outputs": [],
   "source": [
    "def load_elecs_anat(pt_path):\n",
    "                \n",
    "    #load anatomy and electrode matrix\n",
    "    os.chdir(pt_path + 'Imaging/elecs')\n",
    "    e_mat = loadmat('clinical_elecs_all.mat')\n",
    "    anatomy = e_mat['anatomy']\n",
    "    em = e_mat['elecmatrix']\n",
    "    em_row = np.shape(anatomy)[0]\n",
    "    \n",
    "    return em_row, em, anatomy\n"
   ]
  },
  {
   "cell_type": "code",
   "execution_count": 6,
   "id": "c9e2c6ac-8c03-4760-9ef2-9ae748e4d5c0",
   "metadata": {
    "jupyter": {
     "source_hidden": true
    },
    "tags": []
   },
   "outputs": [],
   "source": [
    "def get_params(df_params,pt):\n",
    "    params_bl_start = df_params.loc[pt]['BLstart']\n",
    "    params_bl_stop = df_params.loc[pt]['BLstop']\n",
    "    params_llw = df_params.loc[pt]['llw']\n",
    "\n",
    "    return params_bl_start, params_bl_stop, params_llw"
   ]
  },
  {
   "cell_type": "code",
   "execution_count": 7,
   "id": "d921d6b3-d7b7-4a04-9129-24b008139d9c",
   "metadata": {
    "jupyter": {
     "source_hidden": true
    },
    "tags": []
   },
   "outputs": [],
   "source": [
    "def get_ptsz(avg_change_path): #Load list of patient and seizure names\n",
    "    os.chdir(avg_change_path)\n",
    "    \n",
    "    df_params = open_xl('OPSCEAparams.xlsx') # Ndimensions and params_list\n",
    "\n",
    "    with open('sz_name_list.csv','r') as sz_names:\n",
    "        sz_names_list = list(csv.reader(sz_names))\n",
    "        sz_rows = np.size(sz_names_list,0) #find row num \n",
    "        pt_data = []\n",
    "        sz_data= []\n",
    "        for r in range(0,sz_rows):  #collect symptom data for specfic seizure in list\n",
    "            pt_data.append(sz_names_list[r][0]) \n",
    "            sz_data.append(sz_names_list[r][1]) \n",
    "    return pt_data, sz_data, df_params"
   ]
  },
  {
   "cell_type": "markdown",
   "id": "19eca60b-2e93-4c30-ba16-e35db39abb42",
   "metadata": {
    "tags": []
   },
   "source": [
    "## Input symptom, mode, and duration"
   ]
  },
  {
   "cell_type": "code",
   "execution_count": 8,
   "id": "2969037b-4679-4dd4-a181-9d421a5e5c0f",
   "metadata": {
    "jupyter": {
     "source_hidden": true
    },
    "tags": []
   },
   "outputs": [],
   "source": [
    "sx_input = 'lhx'\n",
    "mx_input = '2'\n",
    "perdur_input = '10'"
   ]
  },
  {
   "cell_type": "code",
   "execution_count": 9,
   "id": "9f231bde-295d-47fa-9cf0-b54537936282",
   "metadata": {
    "jupyter": {
     "source_hidden": true
    },
    "tags": []
   },
   "outputs": [],
   "source": [
    "neuroanat_list = ['frontalpole', #FRONTAL LOBE\n",
    "    'parstriangularis',\n",
    "    'parsopercularis',\n",
    "    'parsorbitalis',\n",
    "    'rostralmiddlefrontal',\n",
    "    'caudalmiddlefrontal',\n",
    "    'lateralorbitofrontal',\n",
    "    'superiorfrontal',\n",
    "    'medialorbitofrontal',\n",
    "    'precentral',\n",
    "    'postcentral', # PARIETAL LOBE\n",
    "    'inferiorparietal',   \n",
    "    'superiorparietal',\n",
    "    'supramarginal',\n",
    "    'temporalpole', # TEMPORAL LOBE\n",
    "    'middletemporal',\n",
    "    'superiortemporal',\n",
    "    'inferiortemporal',\n",
    "    'parahippocampal',               \n",
    "    'Right-Hippocampus',\n",
    "    'Left-Hippocampus',\n",
    "    'Right-Amygdala',\n",
    "    'Left-Amygdala',\n",
    "    'entorhinal',\n",
    "    'bankssts',\n",
    "    'fusiform', # OCCIPITAL LOBE                \n",
    "    'lingual',\n",
    "    'Right-Inf-Lat-Vent', # OTHER\n",
    "    'Right-Cerebral-White-Matter',\n",
    "    'Left-Cerebral-White-Matter',\n",
    "    'Right-choroid-plexus',\n",
    "    'Right-Putamen',\n",
    "    'Right-VentralDC'];"
   ]
  },
  {
   "cell_type": "markdown",
   "id": "56cc9cd3-5a37-4f35-89f9-2b70ceeb1375",
   "metadata": {},
   "source": [
    "## For loop through patients in list matching seizure"
   ]
  },
  {
   "cell_type": "code",
   "execution_count": 13,
   "id": "653f1d70-cfdc-4bb9-956f-3377113b350d",
   "metadata": {},
   "outputs": [
    {
     "name": "stdout",
     "output_type": "stream",
     "text": [
      "EC96_01\n",
      "(1, 9, 0.5)\n",
      "EC107_01\n",
      "(10, 20, 0.5)\n",
      "EC133_03\n",
      "(119, 129, 0.5)\n",
      "EC229_02\n",
      "(2, 16, 0.5)\n"
     ]
    }
   ],
   "source": [
    "avg_change_path = '/Users/nataliasucher/Desktop/UCSF/Coding/OPSCEA/OPSCEADATA/avg_change_folders/'\n",
    "\n",
    "out_ptsz = get_ptsz(avg_change_path)\n",
    "pt_data = out_ptsz[0]\n",
    "sz_data = out_ptsz[1]\n",
    "df_params = out_ptsz[2]\n",
    "\n",
    "# for neuro_struc in neuroanat_list:\n",
    "\n",
    "for pt in pt_data: #For loop through patients \n",
    "\n",
    "    pt_i = pt_data.index(pt)\n",
    "    sz_name = sz_data[pt_i]\n",
    "\n",
    "    pt_path = avg_change_path + pt + '/'\n",
    "    os.chdir(pt_path)\n",
    "    pt_dir = os.listdir(pt_path)\n",
    "\n",
    "    for sz_name in sz_data: \n",
    "\n",
    "        if sz_name in pt_dir: #patients in list matching seizure\n",
    "\n",
    "            print(sz_name)\n",
    "            out_elecs_anat = load_elecs_anat(pt_path)            \n",
    "            out_params = get_params(df_params,pt)\n",
    "            \n",
    "            print(out_params)\n",
    "            \n",
    "            sz_path = pt_path + sz_data[pt_i]\n",
    "            os.chdir(sz_path)\n",
    "\n",
    "            #load semiology matrix .csv\n",
    "            df = pd.read_csv(sz_name + '_mat.csv',usecols = [sx_input])\n",
    "            \n",
    "            #load frame speed and electrode matrix\n",
    "            sz_mat = loadmat(sz_name +'.mat') # process seizures with symptom/mode     \n",
    "            fs = sz_mat['fs'].flatten()\n",
    "            # print(fs[0])\n",
    "#             ppEEG = sz_mat['ppEEG']\n",
    "#             print(np.shape(ppEEG))\n",
    "#             # print(ppEEG[0][49459])\n",
    "#             t_ppEEG = ppEEG.T\n",
    "#             print(np.shape(t_ppEEG))\n",
    "            \n",
    "\n",
    "#             #remove EKG lines at end of anatomy + ppEEG?\n",
    "\n",
    "#             try:\n",
    "#                 ll = ll_weights(sz_name,perdur_input,out_elecs_anat[0],out_params[2],ppEEG,t_ppEEG,df,fs)\n",
    "#                 # ll_onset = ll[0] #onset\n",
    "#                 # t_ll_o = ll_onset.transpose()\n",
    "#                 # print(ll_onset.T)\n",
    "#                 # ll_before = ll[1] #before\n",
    "#                 # ll_after = ll[2] #after\n",
    "# #                 print(ll_onset[0])\n",
    "# #                 print('----------------------------')\n",
    "                \n",
    "#                 b,a = signal.butter(2,range(1,(round(fs[0][0]/2-1)))/(fs[0][0]/2),'bandpass') # [b,a]=butter(2,[1 round(sfx/2-1)]/(sfx/2),'bandpass'); \n",
    "#                ll_onset[:]= signal.filtfilt(b,a,ll_onset)  # d(nns,:) = filtfilt(b,a,d(nns,:)')';                \n",
    "# #                 # ll_before[:]= signal.filtfilt(b,a,ll_before.T)  # d(nns,:) = filtfilt(b,a,d(nns,:)')';\n",
    "# #                 # ll_after[:]= signal.filtfilt(b,a,ll_after.T)  # d(nns,:) = filtfilt(b,a,d(nns,:)')';\n",
    "# #                 t_onset = ll_onset.transpose()\n",
    "# #                 print(t_onset[0])\n",
    "\n",
    "#             except:\n",
    "#                 print('no ll list')\n",
    "\n"
   ]
  },
  {
   "cell_type": "code",
   "execution_count": null,
   "id": "79fdb1da-1ce5-4f2a-a10a-22c5c38d3ab3",
   "metadata": {},
   "outputs": [],
   "source": []
  },
  {
   "cell_type": "code",
   "execution_count": null,
   "id": "7692835b-00af-4fbf-b8a9-d1a92bcafdd3",
   "metadata": {},
   "outputs": [],
   "source": []
  }
 ],
 "metadata": {
  "kernelspec": {
   "display_name": "Python 3 (ipykernel)",
   "language": "python",
   "name": "python3"
  },
  "language_info": {
   "codemirror_mode": {
    "name": "ipython",
    "version": 3
   },
   "file_extension": ".py",
   "mimetype": "text/x-python",
   "name": "python",
   "nbconvert_exporter": "python",
   "pygments_lexer": "ipython3",
   "version": "3.9.7"
  }
 },
 "nbformat": 4,
 "nbformat_minor": 5
}
