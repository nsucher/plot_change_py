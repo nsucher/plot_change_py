{
 "cells": [
  {
   "cell_type": "markdown",
   "id": "88e06506-4984-4626-9860-6ffc5ffc8df7",
   "metadata": {},
   "source": [
    "plot_change.py: Generate significance of electrode weight changes at neuroanatomical sites"
   ]
  },
  {
   "cell_type": "markdown",
   "id": "440d16a1-af04-48fb-a299-6577a6697063",
   "metadata": {},
   "source": [
    "## Pseudocode:\n",
    "    . Import\n",
    "    . Input symptom, mode, perdur\n",
    "    . Define functions\n",
    "    . Load Parameters\n",
    "    . For Loop through seizures"
   ]
  },
  {
   "cell_type": "markdown",
   "id": "5a0a6cc7-830d-4219-9ea4-de99aa7f2d08",
   "metadata": {
    "tags": []
   },
   "source": [
    "## Import"
   ]
  },
  {
   "cell_type": "code",
   "execution_count": 1,
   "id": "8fd52eb6-be5b-4151-8ea1-4e3a9c153ac6",
   "metadata": {
    "tags": []
   },
   "outputs": [],
   "source": [
    "import csv\n",
    "import os\n",
    "import pathlib\n",
    "import numpy as np\n",
    "from scipy.io import loadmat\n",
    "from scipy.signal import butter,filtfilt\n",
    "from scipy.stats import ttest_1samp\n",
    "\n",
    "#\n",
    "import pandas as pd\n",
    "# from plot_change_module import *"
   ]
  },
  {
   "cell_type": "code",
   "execution_count": 2,
   "id": "9f231bde-295d-47fa-9cf0-b54537936282",
   "metadata": {
    "jupyter": {
     "source_hidden": true
    },
    "tags": []
   },
   "outputs": [],
   "source": [
    "neuroanat_list = ['frontalpole', #FRONTAL LOBE\n",
    "    'parstriangularis',\n",
    "    'parsopercularis',\n",
    "    'parsorbitalis',\n",
    "    'rostralmiddlefrontal',\n",
    "    'caudalmiddlefrontal',\n",
    "    'lateralorbitofrontal',\n",
    "    'superiorfrontal',\n",
    "    'medialorbitofrontal',\n",
    "    'precentral',\n",
    "    'postcentral', # PARIETAL LOBE\n",
    "    'inferiorparietal',   \n",
    "    'superiorparietal',\n",
    "    'supramarginal',\n",
    "    'temporalpole', # TEMPORAL LOBE\n",
    "    'middletemporal',\n",
    "    'superiortemporal',\n",
    "    'inferiortemporal',\n",
    "    'parahippocampal',               \n",
    "    'Right-Hippocampus',\n",
    "    'Left-Hippocampus',\n",
    "    'Right-Amygdala',\n",
    "    'Left-Amygdala',\n",
    "    'entorhinal',\n",
    "    'bankssts',\n",
    "    'fusiform', # OCCIPITAL LOBE                \n",
    "    'lingual'];\n",
    "    # 'Right-Inf-Lat-Vent', # OTHER\n",
    "    # 'Right-Cerebral-White-Matter',\n",
    "    # 'Left-Cerebral-White-Matter',\n",
    "    # 'Right-choroid-plexus',\n",
    "    # 'Right-Putamen',\n",
    "    # 'Right-VentralDC'];"
   ]
  },
  {
   "cell_type": "markdown",
   "id": "19eca60b-2e93-4c30-ba16-e35db39abb42",
   "metadata": {
    "tags": []
   },
   "source": [
    "## Input symptom, mode, and duration"
   ]
  },
  {
   "cell_type": "code",
   "execution_count": 3,
   "id": "2969037b-4679-4dd4-a181-9d421a5e5c0f",
   "metadata": {
    "tags": []
   },
   "outputs": [],
   "source": [
    "sx_input = 'lhx'\n",
    "mx_input = '2'\n",
    "perdur_input = '10'"
   ]
  },
  {
   "cell_type": "markdown",
   "id": "961e9f4d-0033-46b7-8aae-3c4f091e5f2b",
   "metadata": {},
   "source": [
    "## Define Functions"
   ]
  },
  {
   "cell_type": "code",
   "execution_count": 4,
   "id": "52e545f1-2cd5-40d4-845a-9fe80791e16b",
   "metadata": {
    "tags": []
   },
   "outputs": [],
   "source": [
    "def sem_w8s(LL_s,at_onset,before_onset,after_onset):\n",
    "    print('mr.longtime sem_w')\n",
    "\n",
    "\n",
    "    row_num = np.shape(LL_s)[0]\n",
    "    # print(int(before_onset))\n",
    "    # print(int(after_onset))\n",
    "    # sem_dur = int(after_onset)-int(before_onset)\n",
    "    # print(int(before_onset))\n",
    "    # print(int(at_onset))\n",
    "    # print(int(after_onset))\n",
    "\n",
    "    \n",
    "    \n",
    "#     print(LL_s[:,int(before_onset)])\n",
    "#     print(LL_s[:,int(at_onset)])\n",
    "#     print(LL_s[:,int(after_onset)])\n",
    "\n",
    "    # print(LL_s[:,int(before_onset):int(after_onset)])\n",
    "    # print(np.shape(LL_s))\n",
    "    # print(LL_s[:,a:b])\n",
    "    # print(LL_s[:,at_onset:after_onset])\n",
    "#     print('*****************')\n",
    "#     print(np.mean(LL_s[:,int(at_onset):int(after_onset)],1))\n",
    "    LL_meandiff = np.empty(row_num,)\n",
    "    # LL_meandiff = np.mean(LL_s[:,int(at_onset):int(after_onset)]) - np.mean(LL_s[:,int(before_onset):int(at_onset)])\n",
    "    # print(LL_meandiff)\n",
    "    for row in range(0,row_num-1): #for each channel in LL   \n",
    "        LL_meandiff[row] = np.mean(LL_s[row,int(at_onset):int(after_onset)]) - np.mean(LL_s[row,int(before_onset):int(at_onset)])\n",
    "    #     print(np.mean(LL_s[row,int(at_onset):int(after_onset)]) - np.mean(LL_s[row,int(before_onset):int(at_onset)]))\n",
    "    #     # LL_meandiff[row,:] = np.mean(LL_s[row,int(at_onset):int(after_onset)],axis=1) - np.mean(LL_s[row,int(before_onset):int(at_onset)],axis=1)\n",
    "    print(LL_meandiff)\n",
    "\n",
    "    return LL_meandiff"
   ]
  },
  {
   "cell_type": "code",
   "execution_count": 5,
   "id": "28cd3192-50b2-4321-8348-426b3cef1e6e",
   "metadata": {
    "tags": []
   },
   "outputs": [],
   "source": [
    "def ll_sort(LL,anat,neuroanat_list):\n",
    "    print('mr.longtime ll_s')\n",
    "\n",
    "    a_count = 0\n",
    "    n_count = 0\n",
    "    y_count = 0\n",
    "    \n",
    "    n_list = []\n",
    "    y_list = []\n",
    "    LL_s = np.empty([np.shape(anat)[0],np.shape(LL)[1]])\n",
    "    LL_s[:] = np.NaN\n",
    "    \n",
    "    for n_a in neuroanat_list:\n",
    "        a_count = 0\n",
    "        for a_c in anat:\n",
    "            if np.size(a_c) > 0: \n",
    "                if n_a == a_c:\n",
    "                 #collect ll data\n",
    "                    n_list.append(n_a) #collect all neuroanat str\n",
    "                    \n",
    "                    LL_s[n_count,:] = LL[a_count,:]\n",
    "                    \n",
    "                    print(a_c)\n",
    "                    print(LL[a_count,0])\n",
    "                    \n",
    "                    \n",
    "                    print(n_list[n_count])\n",
    "                    print(LL_s[n_count,0])\n",
    "                    n_count += 1\n",
    "            \n",
    "                    #sort into unique y tick labels\n",
    "                    if n_a not in y_list:\n",
    "                        y_list.append(n_a) #collect only non-repeating neuroanat str  \n",
    "                        # y_count += 1\n",
    "                        #find index of first and last appearance of neuroanat str, divide by two for ytick\n",
    "            a_count += 1\n",
    "    print(a_count)\n",
    "    return LL_s,n_list                     "
   ]
  },
  {
   "cell_type": "code",
   "execution_count": 6,
   "id": "f14ce657-1f47-44f7-923c-42c795e62dc0",
   "metadata": {
    "jupyter": {
     "source_hidden": true
    },
    "tags": []
   },
   "outputs": [],
   "source": [
    "def ll_transform(llw,fs,d,bl_start,bl_stop):\n",
    "    print('mr.longtime ll_t')\n",
    "    \n",
    "    if bl_start == 0:\n",
    "        sample_bl_start = 0\n",
    "    elif bl_start > 0:\n",
    "        sample_bl_start = (fs*bl_start)[0] #0 because it's python not matlab\n",
    "    sample_bl_end = (fs*bl_stop)[0]-1\n",
    "    \n",
    "    L = int(np.round(llw * fs) - 1) # number of samples to calculate line length\n",
    "    \n",
    "    col_len = np.shape(d)[1]-L\n",
    "    \n",
    "    LL = np.empty([np.shape(d)[0],col_len])\n",
    "    \n",
    "    LL[:] = np.NaN        \n",
    "    \n",
    "    for col_1 in range(0,col_len):\n",
    "        LL[:,col_1] = np.sum(np.abs(np.diff(d[:,col_1:col_1+L])),1)\n",
    "\n",
    "\n",
    "    for row_1 in range(0,np.shape(d)[0]):    \n",
    "        LL_nanmean = np.nanmean(LL[row_1,sample_bl_start:sample_bl_end])\n",
    "        LL_nanstd = np.nanstd(LL[row_1,sample_bl_start:sample_bl_end])\n",
    "                                              \n",
    "        LL[row_1,:] = (LL[row_1,:] - LL_nanmean)/LL_nanstd\n",
    "        \n",
    "            \n",
    "    return LL\n"
   ]
  },
  {
   "cell_type": "code",
   "execution_count": 7,
   "id": "d561c82e-d149-4138-a9be-23d4ce572b3c",
   "metadata": {
    "jupyter": {
     "source_hidden": true
    },
    "tags": []
   },
   "outputs": [],
   "source": [
    "def open_xl(xl_name): \n",
    "    # df = pd.read_excel(xl_name)\n",
    "    # Ndimensions = df.shape #row, col\n",
    "    # params_list = df.values.tolist()\n",
    "    \n",
    "    df = pd.read_excel(xl_name, index_col=0, engine='openpyxl')\n",
    "\n",
    "    return df\n"
   ]
  },
  {
   "cell_type": "code",
   "execution_count": 8,
   "id": "fbc92d79-bddb-4528-8d97-ba0717d4b31c",
   "metadata": {
    "jupyter": {
     "source_hidden": true
    },
    "tags": []
   },
   "outputs": [],
   "source": [
    "def filt(d,fs):\n",
    "\n",
    "\n",
    "# def filt_perdur(sx_input,mx_input,perdur_input,d,sem_df,fs):\n",
    "    d_t = d.transpose()\n",
    "    \n",
    "    butter_array = np.array([1,(round(fs[0]/2)-1)])\n",
    "    b,a = butter(2,butter_array/(fs[0]/2),btype='bandpass',output='ba')\n",
    "        \n",
    "#     mx_index = sem_df.index[sem_df[sx_input]==int(mx_input)][0] # first onset of symptom in ppEEG time \n",
    "#     onset_mx = round((mx_index/5)*fs[0]) #adjusted for ppEEG time\n",
    "\n",
    "#     ppEEG_perdur = int(perdur_input) * fs[0]\n",
    "\n",
    "#     before_array = d_t[onset_mx - ppEEG_perdur]\n",
    "#     after_array = d_t[onset_mx + ppEEG_perdur]\n",
    "\n",
    "#     before_array = filtfilt(b,a,~np.isnan(before_array),axis=0,padtype='odd',padlen=3*(max(len(b),len(a))-1)).transpose() # d(nns,:) = filtfilt(b,a,d(nns,:)')'; \n",
    "#     after_array = filtfilt(b,a,~np.isnan(after_array),axis=0,padtype='odd',padlen=3*(max(len(b),len(a))-1)).transpose() # d(nns,:) = filtfilt(b,a,d(nns,:)')'; \n",
    "    \n",
    "    filt_d = filtfilt(b,a,d_t,axis=0,padtype='odd',padlen=3*(max(len(b),len(a))-1)).transpose()\n",
    "                      # ~np.isnan(d_t) # d(nns,:) = filtfilt(b,a,d(nns,:)')'; \n",
    "\n",
    "    return filt_d\n"
   ]
  },
  {
   "cell_type": "code",
   "execution_count": 9,
   "id": "40c88715-9b46-4a74-8dcb-03f73c084631",
   "metadata": {
    "jupyter": {
     "source_hidden": true
    },
    "tags": []
   },
   "outputs": [],
   "source": [
    "def load_elecs_anat(pt_path):\n",
    "                \n",
    "    #load anatomy and electrode matrix\n",
    "    os.chdir(pt_path + 'Imaging/elecs')\n",
    "    e_mat = loadmat('clinical_elecs_all.mat')\n",
    "    anat_col = e_mat['anatomy'][:,3]\n",
    "            \n",
    "    return anat_col\n"
   ]
  },
  {
   "cell_type": "code",
   "execution_count": 10,
   "id": "c9e2c6ac-8c03-4760-9ef2-9ae748e4d5c0",
   "metadata": {
    "jupyter": {
     "source_hidden": true
    },
    "tags": []
   },
   "outputs": [],
   "source": [
    "def get_params(df_params,pt):\n",
    "    params_bl_start = df_params.loc[pt]['BLstart']\n",
    "    params_bl_stop = df_params.loc[pt]['BLstop']\n",
    "    params_llw = df_params.loc[pt]['llw']\n",
    "\n",
    "    return params_bl_start, params_bl_stop, params_llw"
   ]
  },
  {
   "cell_type": "code",
   "execution_count": 11,
   "id": "d921d6b3-d7b7-4a04-9129-24b008139d9c",
   "metadata": {
    "jupyter": {
     "source_hidden": true
    },
    "tags": []
   },
   "outputs": [],
   "source": [
    "def get_ptsz(avg_change_path): #Load list of patient and seizure names\n",
    "    os.chdir(avg_change_path)\n",
    "    \n",
    "    df_params = open_xl('OPSCEAparams.xlsx') # Ndimensions and params_list\n",
    "\n",
    "    with open('sz_name_list.csv','r') as sz_names:\n",
    "        sz_names_list = list(csv.reader(sz_names))\n",
    "        sz_rows = np.size(sz_names_list,0) #find row num \n",
    "        pt_data = []\n",
    "        sz_data= []\n",
    "        for r in range(0,sz_rows):  #collect symptom data for specfic seizure in list\n",
    "            pt_data.append(sz_names_list[r][0]) \n",
    "            sz_data.append(sz_names_list[r][1]) \n",
    "    return pt_data, sz_data, df_params"
   ]
  },
  {
   "cell_type": "markdown",
   "id": "56cc9cd3-5a37-4f35-89f9-2b70ceeb1375",
   "metadata": {},
   "source": [
    "## For loop through patients in list matching seizure"
   ]
  },
  {
   "cell_type": "code",
   "execution_count": 12,
   "id": "653f1d70-cfdc-4bb9-956f-3377113b350d",
   "metadata": {
    "tags": []
   },
   "outputs": [
    {
     "name": "stdout",
     "output_type": "stream",
     "text": [
      "EC96_01\n",
      "mr.longtime ll_t\n",
      "mr.longtime ll_s\n",
      "108\n",
      "['parstriangularis', 'parstriangularis', 'parsopercularis', 'parsopercularis', 'parsopercularis', 'parsopercularis', 'parsopercularis', 'parsopercularis', 'parsorbitalis', 'parsorbitalis', 'rostralmiddlefrontal', 'rostralmiddlefrontal', 'caudalmiddlefrontal', 'caudalmiddlefrontal', 'lateralorbitofrontal', 'lateralorbitofrontal', 'lateralorbitofrontal', 'lateralorbitofrontal', 'precentral', 'precentral', 'precentral', 'precentral', 'precentral', 'precentral', 'precentral', 'precentral', 'precentral', 'precentral', 'postcentral', 'postcentral', 'postcentral', 'postcentral', 'postcentral', 'postcentral', 'postcentral', 'postcentral', 'postcentral', 'postcentral', 'postcentral', 'postcentral', 'postcentral', 'supramarginal', 'supramarginal', 'supramarginal', 'supramarginal', 'supramarginal', 'supramarginal', 'supramarginal', 'supramarginal', 'supramarginal', 'temporalpole', 'temporalpole', 'middletemporal', 'middletemporal', 'middletemporal', 'middletemporal', 'middletemporal', 'middletemporal', 'superiortemporal', 'superiortemporal', 'superiortemporal', 'superiortemporal', 'superiortemporal', 'superiortemporal', 'superiortemporal', 'superiortemporal', 'superiortemporal', 'superiortemporal', 'superiortemporal', 'superiortemporal', 'superiortemporal', 'superiortemporal', 'superiortemporal', 'superiortemporal', 'superiortemporal', 'superiortemporal', 'superiortemporal', 'superiortemporal', 'superiortemporal', 'inferiortemporal', 'inferiortemporal', 'inferiortemporal', 'parahippocampal', 'parahippocampal', 'Right-Hippocampus', 'Right-Hippocampus', 'Right-Hippocampus', 'Right-Hippocampus', 'Right-Amygdala', 'Right-Amygdala', 'Right-Amygdala', 'bankssts', 'bankssts', 'fusiform', 'fusiform', 'fusiform']\n",
      "mr.longtime sem_w\n",
      "[ 4.37880947e+000  1.00470260e+001  8.08127028e+000  8.31845633e+000\n",
      "  1.25612190e+001  5.10183550e+000  6.64818065e+000  2.12530379e+000\n",
      " -1.58737564e+000  8.97179278e-001  1.03089245e+000  1.40706656e+000\n",
      "  6.75056267e+000  2.16162875e+000  2.99359661e+000  1.44636636e+000\n",
      "  2.96100644e-001  2.73347868e+000  1.61735303e+001  9.48166342e+000\n",
      "  4.85102327e+000  1.02840421e+001  3.13841530e+000  5.67070383e+000\n",
      "  2.05252890e+001  7.80536238e+000  1.46694788e+001  7.92837771e+000\n",
      "  4.21624189e+000  1.03958024e+001  9.01045882e+000  9.40090506e+000\n",
      "  8.65776287e+000  4.47617831e+000  9.94506067e+000  5.32013165e+000\n",
      "  3.53934094e+000  5.22420764e+000  2.30047387e+000  1.83680138e+000\n",
      "  5.01428636e-003  7.33236107e+000  5.11014080e+000  3.03333896e+000\n",
      "  7.49308499e-001  2.82845455e+001  6.78406636e+000  7.71910557e+000\n",
      "  3.59818633e+000  1.27524537e+000  3.84875764e+000  2.20688015e+000\n",
      "  3.21365750e+000  4.81997710e+000 -7.32783327e-001  6.71873014e-001\n",
      "  2.21824145e-001  5.07670615e-001  2.63252375e-001  3.06282758e+001\n",
      "  2.50085169e+001  5.62163936e+000  2.65865978e+001 -8.52631860e+000\n",
      "  1.71548643e+001  1.59573338e+000 -1.34694962e+001 -1.18650402e+001\n",
      " -1.38789254e+000  7.96583873e+000  1.92252224e+000 -7.14859060e+000\n",
      " -5.19524286e+000  5.71267978e+000  2.24997049e+001  1.71099523e+000\n",
      "  1.38396874e+000  2.95684205e+000 -7.66261559e+000  1.97644093e+001\n",
      "  1.29920920e+001 -4.20955620e+000 -3.40416692e+000 -1.53076918e+001\n",
      "  8.04334347e+000 -1.16957987e+001  1.97029212e+000  8.71883279e+000\n",
      " -1.67182771e+000 -1.55558429e+000 -9.83716114e-002  7.42624555e+000\n",
      "  1.22085778e+001  5.46143174e+000  1.31056745e+001  2.59239956e+161]\n",
      "EC107_01\n",
      "mr.longtime ll_t\n",
      "mr.longtime ll_s\n",
      "136\n",
      "['parstriangularis', 'parstriangularis', 'parstriangularis', 'parstriangularis', 'parstriangularis', 'parstriangularis', 'parstriangularis', 'parstriangularis', 'parstriangularis', 'parsopercularis', 'parsopercularis', 'parsopercularis', 'parsopercularis', 'parsopercularis', 'parsorbitalis', 'parsorbitalis', 'rostralmiddlefrontal', 'rostralmiddlefrontal', 'rostralmiddlefrontal', 'rostralmiddlefrontal', 'caudalmiddlefrontal', 'lateralorbitofrontal', 'lateralorbitofrontal', 'lateralorbitofrontal', 'lateralorbitofrontal', 'precentral', 'precentral', 'precentral', 'precentral', 'precentral', 'precentral', 'precentral', 'precentral', 'precentral', 'precentral', 'precentral', 'postcentral', 'postcentral', 'postcentral', 'postcentral', 'postcentral', 'postcentral', 'postcentral', 'postcentral', 'postcentral', 'postcentral', 'postcentral', 'postcentral', 'inferiorparietal', 'inferiorparietal', 'inferiorparietal', 'inferiorparietal', 'inferiorparietal', 'inferiorparietal', 'inferiorparietal', 'inferiorparietal', 'inferiorparietal', 'inferiorparietal', 'inferiorparietal', 'inferiorparietal', 'superiorparietal', 'superiorparietal', 'supramarginal', 'supramarginal', 'supramarginal', 'supramarginal', 'supramarginal', 'supramarginal', 'supramarginal', 'supramarginal', 'supramarginal', 'supramarginal', 'middletemporal', 'middletemporal', 'middletemporal', 'middletemporal', 'superiortemporal', 'superiortemporal', 'superiortemporal', 'superiortemporal', 'superiortemporal', 'superiortemporal', 'superiortemporal', 'superiortemporal', 'superiortemporal', 'superiortemporal', 'superiortemporal', 'superiortemporal', 'superiortemporal', 'superiortemporal', 'inferiortemporal', 'inferiortemporal', 'inferiortemporal', 'inferiortemporal', 'Right-Hippocampus', 'Right-Hippocampus', 'Right-Hippocampus', 'Right-Hippocampus', 'Right-Hippocampus', 'Right-Hippocampus', 'entorhinal', 'entorhinal', 'fusiform', 'fusiform', 'fusiform', 'fusiform', 'fusiform']\n",
      "mr.longtime sem_w\n",
      "[-2.01291697e+00  4.78036700e-01  7.55346256e+00  6.48404369e+00\n",
      "  4.64156343e-02  3.40060205e+00  3.39765826e+00  4.04951225e-01\n",
      " -4.77472203e-01  5.05368507e-01 -3.61738702e-01  1.49408311e-01\n",
      "  6.46674255e-01  1.41599403e+00 -2.33858403e+00  7.97952487e-03\n",
      "  3.09821928e-01 -6.52333284e-02  2.62663584e-01  3.07375196e+00\n",
      "  1.59092473e+00 -3.08859561e+01 -1.46229143e+01 -1.60731543e+01\n",
      " -2.27040283e+01  5.20403298e+00  3.57000723e+00  3.51417311e-01\n",
      "  1.30125954e+00  1.94576613e+01  1.60216784e+01  3.18270447e+00\n",
      "  1.14896840e+00  9.69079803e+00  2.88495911e+00  4.83950130e+00\n",
      "  1.09964916e+01  6.28271399e+00  7.06944142e+00  1.03580749e+01\n",
      "  1.08150954e+01 -6.70983590e+00  6.21938007e+00  6.89199412e+00\n",
      "  8.24727146e-01  1.61449454e+00  2.08985103e+00  5.63994174e+00\n",
      " -5.66191803e-01  5.16237879e-01  5.97411448e-01  2.26610599e+00\n",
      "  1.10043218e+00  2.99186011e+00  2.92706299e+00  8.34504236e+00\n",
      "  1.60185209e+00  1.85411727e+00  1.84084836e+00  3.35826509e+00\n",
      "  1.44927554e+00  1.06601115e+00  1.39331890e+00  2.53561277e+00\n",
      "  3.97567608e-01  1.47008924e-01  4.71767583e-01  8.53494494e-01\n",
      "  2.38265291e+00  1.49150362e+01  2.86292316e+00 -7.04821671e+00\n",
      " -1.01440499e+01  2.48796169e+00  2.70271588e+00  3.17945627e+00\n",
      " -1.67537621e+01 -6.05844278e+00 -2.80667337e+00 -2.30523308e+00\n",
      " -1.06194334e+00 -2.10870779e+00 -3.25221242e-01 -2.30273656e+00\n",
      "  1.64757759e+00  1.66245095e+00 -7.62310205e-01 -3.76378124e+00\n",
      " -4.40259155e+00 -4.86181147e+00 -1.32974793e+01 -2.68350636e+00\n",
      "  9.07660481e+00  1.46033528e+01 -5.83117847e-02 -2.70754393e+00\n",
      " -1.02682592e+01 -1.09952336e+01 -8.02984094e+00 -1.56408470e+01\n",
      " -2.41976821e+01 -2.20766007e+01 -4.27917150e+01 -2.08526946e+01\n",
      " -1.33513601e+01 -6.43230560e-01  0.00000000e+00]\n",
      "EC133_03\n",
      "EC229_02\n",
      "mr.longtime ll_t\n",
      "mr.longtime ll_s\n",
      "130\n",
      "['parstriangularis', 'parstriangularis', 'parstriangularis', 'parstriangularis', 'parstriangularis', 'parstriangularis', 'parstriangularis', 'parsopercularis', 'parsopercularis', 'parsopercularis', 'parsopercularis', 'parsopercularis', 'parsopercularis', 'parsorbitalis', 'parsorbitalis', 'rostralmiddlefrontal', 'rostralmiddlefrontal', 'rostralmiddlefrontal', 'lateralorbitofrontal', 'lateralorbitofrontal', 'lateralorbitofrontal', 'lateralorbitofrontal', 'lateralorbitofrontal', 'lateralorbitofrontal', 'precentral', 'precentral', 'precentral', 'precentral', 'precentral', 'precentral', 'precentral', 'precentral', 'postcentral', 'postcentral', 'postcentral', 'postcentral', 'postcentral', 'postcentral', 'postcentral', 'postcentral', 'postcentral', 'postcentral', 'supramarginal', 'supramarginal', 'supramarginal', 'supramarginal', 'temporalpole', 'temporalpole', 'temporalpole', 'middletemporal', 'middletemporal', 'middletemporal', 'middletemporal', 'middletemporal', 'middletemporal', 'middletemporal', 'middletemporal', 'middletemporal', 'middletemporal', 'middletemporal', 'middletemporal', 'middletemporal', 'superiortemporal', 'superiortemporal', 'superiortemporal', 'superiortemporal', 'superiortemporal', 'superiortemporal', 'superiortemporal', 'superiortemporal', 'superiortemporal', 'superiortemporal', 'superiortemporal', 'superiortemporal', 'superiortemporal', 'superiortemporal', 'inferiortemporal', 'inferiortemporal', 'inferiortemporal', 'inferiortemporal', 'inferiortemporal', 'Right-Hippocampus', 'Right-Hippocampus', 'Right-Hippocampus', 'Right-Hippocampus', 'Right-Amygdala', 'Right-Amygdala', 'Right-Amygdala', 'Right-Amygdala', 'entorhinal', 'entorhinal', 'fusiform', 'fusiform', 'fusiform', 'fusiform', 'fusiform', 'fusiform']\n",
      "mr.longtime sem_w\n",
      "[-4.39944516e-001  1.74112201e-001 -3.29859327e-001 -7.25436838e-001\n",
      "  5.93735374e-003  6.40402190e-001  1.98192132e+000 -2.65199102e-001\n",
      "  2.54642590e+000  1.17361857e+000  4.45482949e-001  7.57274823e-001\n",
      "  6.38511662e-001 -9.02251759e-001  1.56749653e+000  6.00539569e-001\n",
      "  1.16699909e+000  5.26208720e-001  5.18975321e-001  1.75812839e-003\n",
      " -1.40868449e+000  9.82877019e-001 -7.94437264e-001 -2.17214153e+000\n",
      " -1.41999662e+000 -1.93292257e+000 -2.47833412e-001  1.56604202e+000\n",
      " -5.53021480e-001 -4.22059248e-001 -1.74977948e+000  1.10374147e+000\n",
      " -1.37833686e+000 -4.71593165e-001  2.15372412e+000 -4.94859038e-001\n",
      " -1.23619390e+000 -1.07209983e+000 -1.82992996e+000 -8.48402923e-001\n",
      " -8.83918736e-001 -1.40977198e-001 -4.07361510e-001 -3.06262909e+000\n",
      " -5.18747334e-002  1.70616165e-001 -6.50782520e-001  2.51357249e-001\n",
      " -1.46172560e-001 -9.44538519e-001 -2.74931568e+000 -6.49548073e+000\n",
      " -1.20497840e-001 -1.54941264e+000 -4.77351145e+000 -2.04594620e-001\n",
      " -2.15599554e+000 -6.04224925e+000 -5.84736512e+000 -8.73667212e+000\n",
      "  6.42502563e-001 -7.52378632e+000 -3.21282694e+000 -5.29373771e+000\n",
      " -5.02696636e+000 -7.50721264e+000 -2.05937823e+001 -5.52783234e+000\n",
      " -5.98958121e+000 -8.29276889e+000 -1.58041807e+001 -2.54287473e+000\n",
      " -3.64535183e+000  5.41213832e+000 -5.11083454e+000 -9.21473726e-001\n",
      " -5.56264997e+000 -1.82128880e+000  4.31508560e+000  4.75506744e-001\n",
      "  1.51960446e+000  1.05687893e+000  5.63206662e-001  1.72787589e-001\n",
      "  4.51620552e-001  3.07888316e-001  7.86645614e-001 -5.67179816e-002\n",
      " -1.23378577e-001 -4.91266717e-001 -6.66559781e-002 -6.84780097e-001\n",
      " -1.58039608e+000  7.16952844e-001  1.76706541e+000  8.85810395e+000\n",
      "  1.23489601e+171]\n"
     ]
    }
   ],
   "source": [
    "avg_change_path = '/Users/nataliasucher/Desktop/UCSF/Coding/OPSCEA/OPSCEADATA/avg_change_folders/'\n",
    "\n",
    "pt_data,sz_data,df_params = get_ptsz(avg_change_path) #Ehsan\n",
    "\n",
    "# for neuro_struc in neuroanat_list:\n",
    "\n",
    "#For loop through patients\n",
    "for i in range(len(pt_data)):  #Ehsan\n",
    "    pt_i = pt_data[i]          #Ehsan\n",
    "    sz_name = sz_data[i]       #Ehsan\n",
    "\n",
    "    pt_path = avg_change_path + pt_i + '/'\n",
    "    os.chdir(pt_path)\n",
    "    pt_dir = os.listdir(pt_path)\n",
    "\n",
    "    for sz_name in sz_data: \n",
    "\n",
    "        if sz_name in pt_dir: #patients in list matching seizure\n",
    " \n",
    "            print(sz_name)\n",
    "            \n",
    "            # PARAMS\n",
    "            blstart, blstop, llw = get_params(df_params,pt_i) # 2 = params_llw\n",
    "\n",
    "            # ANAT \n",
    "            anat = load_elecs_anat(pt_path)            \n",
    "\n",
    "            # SEMIOLOGY\n",
    "            sz_path = pt_path + sz_data[i]\n",
    "            os.chdir(sz_path)\n",
    "\n",
    "            sx_vec = pd.read_csv(sz_name + '_mat.csv',usecols = [sx_input]).values.tolist() #load semiology matrix .csv             #WANT TO JUST LOAD 1 COLUMN SX_INPUT            \n",
    "            \n",
    "            if np.float64(mx_input) in sx_vec:\n",
    "            \n",
    "                sz_mat = loadmat(sz_name +'.mat') #load frame speed and ppEEG\n",
    "                fs = sz_mat['fs'].flatten()\n",
    "                # d = sz_mat['ppEEG'][0:np.shape(anat)[0],(fs*blstart)[0]:] \n",
    "                d = sz_mat['ppEEG'][0:np.shape(anat)[0],:]\n",
    "                \n",
    "                #remove same nan rows\n",
    "                nan_d = np.isnan(d).any(axis=1)\n",
    "                d = d[~nan_d,:]\n",
    "                anat = anat[~nan_d]\n",
    "                    \n",
    "#                 anat_list = np.empty(np.shape(anat)).tolist()\n",
    "    \n",
    "#                 for a in range(0,np.shape(anat)[0]):\n",
    "#                     if len(anat[a]) > 0:\n",
    "#                         anat_list[a] = anat[a][0]        \n",
    "#                 print(anat)\n",
    "#                 print(anat_list)\n",
    "\n",
    "            #remove EKG lines at end of anatomy + ppEEG?\n",
    "\n",
    "                filt_d = filt(d,fs) #Filter out < 1 Hz (and up to nyquist)\n",
    "    \n",
    "                LL = ll_transform(llw,fs,filt_d,blstart,blstop) \n",
    "            \n",
    "                LL_s, nlist = ll_sort(LL,anat,neuroanat_list)\n",
    "                \n",
    "                print(nlist)\n",
    "                # print(np.shape(LL_s))\n",
    "                LL_s = LL_s[0:len(nlist),:]\n",
    "\n",
    "                # LL_s, nlist = ll_sort(LL,anat_list,neuroanat_list)\n",
    "                # LL_s = LL_s[~l_nan_vec,:]\n",
    "                # nlist = nlist[~l_nan_vec]\n",
    "                # print(LL_s)\n",
    "                # print(type(l_nan_vec))\n",
    "                # print(n_array[~l_nan_vec])\n",
    "\n",
    "                \n",
    "                \n",
    "\n",
    "                at_onset = np.round(((sx_vec.index(np.float64(mx_input)))/5) * fs)\n",
    "                before_onset = np.round(((sx_vec.index(np.float64(mx_input))/5) - float(perdur_input)) * fs)\n",
    "                after_onset = np.round(((sx_vec.index(np.float64(mx_input))/5) + float(perdur_input)) * fs)\n",
    "\n",
    "                LL_meandiff = sem_w8s(LL_s,at_onset,before_onset,after_onset)\n",
    "    \n",
    "#                 print(LL_meandiff)\n",
    "        \n",
    "#                 tStat, pval = ttest_1samp(LL_meandiff,0)\n",
    "        \n",
    "#                 print(pval)\n",
    "    "
   ]
  },
  {
   "cell_type": "code",
   "execution_count": null,
   "id": "481c31ad-bf54-43c4-b8de-942f175df0d5",
   "metadata": {},
   "outputs": [],
   "source": []
  }
 ],
 "metadata": {
  "kernelspec": {
   "display_name": "Python 3 (ipykernel)",
   "language": "python",
   "name": "python3"
  },
  "language_info": {
   "codemirror_mode": {
    "name": "ipython",
    "version": 3
   },
   "file_extension": ".py",
   "mimetype": "text/x-python",
   "name": "python",
   "nbconvert_exporter": "python",
   "pygments_lexer": "ipython3",
   "version": "3.9.7"
  }
 },
 "nbformat": 4,
 "nbformat_minor": 5
}
