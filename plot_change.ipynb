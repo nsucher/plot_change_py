{
 "cells": [
  {
   "cell_type": "markdown",
   "id": "88e06506-4984-4626-9860-6ffc5ffc8df7",
   "metadata": {},
   "source": [
    "plot_change.py: Generate significance of electrode weight changes at neuroanatomical sites"
   ]
  },
  {
   "cell_type": "markdown",
   "id": "440d16a1-af04-48fb-a299-6577a6697063",
   "metadata": {},
   "source": [
    "Pseudocode:\n",
    "    1. Import\n",
    "    2. Set Path\n",
    "    3. For Loop through seizures"
   ]
  },
  {
   "cell_type": "code",
   "execution_count": null,
   "id": "590f13f7-20f3-4c17-b149-66df2cd6cd8e",
   "metadata": {},
   "outputs": [],
   "source": [
    "#1. Import\n",
    "import csv\n",
    "import os\n",
    "import pathlib\n",
    "\n",
    "#2. Set path\n",
    "avg_change_path = '/Users/nataliasucher/Desktop/UCSF/Coding/OPSCEA/OPSCEADATA/avg_change_folders/'\n",
    "os.chdir(avg_change_path)\n",
    "\n",
    "#3. For loop through seizures\n",
    "\n",
    "pt_list = os.listdir(avg_change_path)\n",
    "\n",
    "new_pt_list = []\n",
    "new_sz_list = []\n",
    "\n",
    "\n",
    "#delete folders that do not contain seizures\n",
    "for pt_i in range(0,len(pt_list)):\n",
    "    pt = pt_list[pt_i]\n",
    "    if pt[0] != '.':\n",
    "        new_pt_list.append(pt)\n",
    "\n",
    "\n",
    "for pt_folder in new_pt_list:\n",
    "    path1 = os.path.join(avg_change_path,pt_folder)\n",
    "    print(path1)\n",
    "    os.chdir(path1)\n",
    "\n",
    "    sz_list = os.listdir(path1)\n",
    "    #delete folders that do not contain seizures\n",
    "    for sz_i in range(0,len(sz_list)):\n",
    "        sz = sz_list[sz_i]\n",
    "        if sz[0] != '.':\n",
    "            new_sz_list.append(sz)\n",
    "        print(new_sz_list)\n"
   ]
  }
 ],
 "metadata": {
  "kernelspec": {
   "display_name": "Python 3 (ipykernel)",
   "language": "python",
   "name": "python3"
  },
  "language_info": {
   "codemirror_mode": {
    "name": "ipython",
    "version": 3
   },
   "file_extension": ".py",
   "mimetype": "text/x-python",
   "name": "python",
   "nbconvert_exporter": "python",
   "pygments_lexer": "ipython3",
   "version": "3.9.7"
  }
 },
 "nbformat": 4,
 "nbformat_minor": 5
}
