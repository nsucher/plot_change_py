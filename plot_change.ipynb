{
 "cells": [
  {
   "cell_type": "markdown",
   "id": "88e06506-4984-4626-9860-6ffc5ffc8df7",
   "metadata": {},
   "source": [
    "plot_change.py: Generate significance of electrode weight changes at neuroanatomical sites"
   ]
  },
  {
   "cell_type": "markdown",
   "id": "440d16a1-af04-48fb-a299-6577a6697063",
   "metadata": {},
   "source": [
    "## Pseudocode:\n",
    "    . Import\n",
    "    . Define functions\n",
    "    . Input symptom, mode, perdur\n",
    "    . Load Parameters\n",
    "    . For Loop through seizures"
   ]
  },
  {
   "cell_type": "markdown",
   "id": "5a0a6cc7-830d-4219-9ea4-de99aa7f2d08",
   "metadata": {
    "tags": []
   },
   "source": [
    "## Import"
   ]
  },
  {
   "cell_type": "code",
   "execution_count": 1,
   "id": "8fd52eb6-be5b-4151-8ea1-4e3a9c153ac6",
   "metadata": {
    "tags": []
   },
   "outputs": [],
   "source": [
    "import csv\n",
    "import os\n",
    "import pathlib\n",
    "import numpy as np\n",
    "from scipy.io import loadmat\n",
    "from scipy.signal import butter,filtfilt\n",
    "\n",
    "#\n",
    "import pandas as pd\n",
    "import datetime\n",
    "# from plot_change_module import *"
   ]
  },
  {
   "cell_type": "markdown",
   "id": "961e9f4d-0033-46b7-8aae-3c4f091e5f2b",
   "metadata": {},
   "source": [
    "## Define Functions"
   ]
  },
  {
   "cell_type": "code",
   "execution_count": null,
   "id": "28cd3192-50b2-4321-8348-426b3cef1e6e",
   "metadata": {},
   "outputs": [],
   "source": [
    "def ll_sort("
   ]
  },
  {
   "cell_type": "code",
   "execution_count": 2,
   "id": "f14ce657-1f47-44f7-923c-42c795e62dc0",
   "metadata": {
    "tags": []
   },
   "outputs": [],
   "source": [
    "def ll_transform(llw,fs,d,bl_start,bl_stop):\n",
    "    L = int(np.round(llw * fs) - 1) # number of samples to calculate line length\n",
    "    LL = np.empty(np.shape(d))\n",
    "    LL[:] = np.NaN    \n",
    "    \n",
    "    sample_bl_start = max([fs*bl_start,1])[0]\n",
    "    sample_bl_end = (fs*bl_stop)[0]\n",
    "    \n",
    "    # Line-length transform\n",
    "    for row_1 in range(0,3):\n",
    "    # for row_1 in range(0,np.shape(d)[0]):\n",
    "        for col_1 in range(0,np.shape(d)[1]-L):\n",
    "            LL[row_1,col_1] = np.sum(np.abs(np.diff(d.iloc[row_1,col_1:col_1+L])))\n",
    "            \n",
    "        LL_nanmean = np.nanmean(LL[row_1,sample_bl_start:sample_bl_end])\n",
    "        LL_nanstd = np.nanstd(LL[row_1,sample_bl_start:sample_bl_end])\n",
    "\n",
    "        # Normalize LL (to baseline period) as z-scores, \"zLL\"\n",
    "        LL[row_1,:] = (LL[row_1,:] - LL_nanmean)/LL_nanstd\n",
    "    return LL"
   ]
  },
  {
   "cell_type": "code",
   "execution_count": 3,
   "id": "d561c82e-d149-4138-a9be-23d4ce572b3c",
   "metadata": {
    "tags": []
   },
   "outputs": [],
   "source": [
    "def open_xl(xl_name): \n",
    "    # df = pd.read_excel(xl_name)\n",
    "    # Ndimensions = df.shape #row, col\n",
    "    # params_list = df.values.tolist()\n",
    "    \n",
    "    df = pd.read_excel(xl_name, index_col=0, engine='openpyxl')\n",
    "\n",
    "    return df\n"
   ]
  },
  {
   "cell_type": "code",
   "execution_count": 4,
   "id": "fbc92d79-bddb-4528-8d97-ba0717d4b31c",
   "metadata": {
    "tags": []
   },
   "outputs": [],
   "source": [
    "def filt_perdur(sx_input,mx_input,perdur_input,d,sem_df,fs):\n",
    "    d_t = d.transpose()\n",
    "    \n",
    "    butter_array = np.array([1,(round(fs[0]/2)-1)])\n",
    "    b,a = butter(2,butter_array/(fs[0]/2),btype='bandpass',output='ba')#,analog = True)\n",
    "    \n",
    "    try:\n",
    "        mx_index = sem_df.index[sem_df[sx_input]==int(mx_input)][0] # first onset of symptom in ppEEG time \n",
    "        onset_mx = round((mx_index/5)*fs[0]) #adjusted for ppEEG time\n",
    "        \n",
    "        ppEEG_perdur = int(perdur_input) * fs[0]\n",
    "\n",
    "        # onset_series = d.iloc[onset_mx]\n",
    "        before_series = d_t.iloc[onset_mx - ppEEG_perdur]\n",
    "        after_series = d_t.iloc[onset_mx + ppEEG_perdur]\n",
    "        \n",
    "        # onset_array = onset_series.to_numpy()\n",
    "        before_array = before_series.to_numpy()\n",
    "        after_array = after_series.to_numpy()\n",
    "\n",
    "        # onset_array = filtfilt(b,a,~np.isnan(onset_array),axis=0,padtype='odd',padlen=3*(max(len(b),len(a))-1)) # d(nns,:) = filtfilt(b,a,d(nns,:)')'; \n",
    "        before_array = filtfilt(b,a,~np.isnan(before_array),axis=0,padtype='odd',padlen=3*(max(len(b),len(a))-1)).transpose() # d(nns,:) = filtfilt(b,a,d(nns,:)')'; \n",
    "        after_array = filtfilt(b,a,~np.isnan(after_array),axis=0,padtype='odd',padlen=3*(max(len(b),len(a))-1)).transpose() # d(nns,:) = filtfilt(b,a,d(nns,:)')'; \n",
    "        \n",
    "        return before_array, after_array\n",
    "    \n",
    "    except IndexError:\n",
    "          print('no index or ppEEG')\n"
   ]
  },
  {
   "cell_type": "code",
   "execution_count": 5,
   "id": "40c88715-9b46-4a74-8dcb-03f73c084631",
   "metadata": {
    "tags": []
   },
   "outputs": [],
   "source": [
    "def load_elecs_anat(pt_path):\n",
    "                \n",
    "    #load anatomy and electrode matrix\n",
    "    os.chdir(pt_path + 'Imaging/elecs')\n",
    "    e_mat = loadmat('clinical_elecs_all.mat')\n",
    "    anatomy = e_mat['anatomy']\n",
    "    em = e_mat['elecmatrix']\n",
    "    em_row = np.shape(anatomy)[0]\n",
    "    \n",
    "    return em_row, em, anatomy\n"
   ]
  },
  {
   "cell_type": "code",
   "execution_count": 6,
   "id": "c9e2c6ac-8c03-4760-9ef2-9ae748e4d5c0",
   "metadata": {
    "tags": []
   },
   "outputs": [],
   "source": [
    "def get_params(df_params,pt):\n",
    "    params_bl_start = df_params.loc[pt]['BLstart']\n",
    "    params_bl_stop = df_params.loc[pt]['BLstop']\n",
    "    params_llw = df_params.loc[pt]['llw']\n",
    "\n",
    "    return params_bl_start, params_bl_stop, params_llw"
   ]
  },
  {
   "cell_type": "code",
   "execution_count": 7,
   "id": "d921d6b3-d7b7-4a04-9129-24b008139d9c",
   "metadata": {
    "tags": []
   },
   "outputs": [],
   "source": [
    "def get_ptsz(avg_change_path): #Load list of patient and seizure names\n",
    "    os.chdir(avg_change_path)\n",
    "    \n",
    "    df_params = open_xl('OPSCEAparams.xlsx') # Ndimensions and params_list\n",
    "\n",
    "    with open('sz_name_list.csv','r') as sz_names:\n",
    "        sz_names_list = list(csv.reader(sz_names))\n",
    "        sz_rows = np.size(sz_names_list,0) #find row num \n",
    "        pt_data = []\n",
    "        sz_data= []\n",
    "        for r in range(0,sz_rows):  #collect symptom data for specfic seizure in list\n",
    "            pt_data.append(sz_names_list[r][0]) \n",
    "            sz_data.append(sz_names_list[r][1]) \n",
    "    return pt_data, sz_data, df_params"
   ]
  },
  {
   "cell_type": "markdown",
   "id": "19eca60b-2e93-4c30-ba16-e35db39abb42",
   "metadata": {
    "tags": []
   },
   "source": [
    "## Input symptom, mode, and duration"
   ]
  },
  {
   "cell_type": "code",
   "execution_count": 8,
   "id": "2969037b-4679-4dd4-a181-9d421a5e5c0f",
   "metadata": {
    "tags": []
   },
   "outputs": [],
   "source": [
    "sx_input = 'lhx'\n",
    "mx_input = '2'\n",
    "perdur_input = '10'"
   ]
  },
  {
   "cell_type": "code",
   "execution_count": 9,
   "id": "9f231bde-295d-47fa-9cf0-b54537936282",
   "metadata": {
    "tags": []
   },
   "outputs": [],
   "source": [
    "neuroanat_list = ['frontalpole', #FRONTAL LOBE\n",
    "    'parstriangularis',\n",
    "    'parsopercularis',\n",
    "    'parsorbitalis',\n",
    "    'rostralmiddlefrontal',\n",
    "    'caudalmiddlefrontal',\n",
    "    'lateralorbitofrontal',\n",
    "    'superiorfrontal',\n",
    "    'medialorbitofrontal',\n",
    "    'precentral',\n",
    "    'postcentral', # PARIETAL LOBE\n",
    "    'inferiorparietal',   \n",
    "    'superiorparietal',\n",
    "    'supramarginal',\n",
    "    'temporalpole', # TEMPORAL LOBE\n",
    "    'middletemporal',\n",
    "    'superiortemporal',\n",
    "    'inferiortemporal',\n",
    "    'parahippocampal',               \n",
    "    'Right-Hippocampus',\n",
    "    'Left-Hippocampus',\n",
    "    'Right-Amygdala',\n",
    "    'Left-Amygdala',\n",
    "    'entorhinal',\n",
    "    'bankssts',\n",
    "    'fusiform', # OCCIPITAL LOBE                \n",
    "    'lingual',\n",
    "    'Right-Inf-Lat-Vent', # OTHER\n",
    "    'Right-Cerebral-White-Matter',\n",
    "    'Left-Cerebral-White-Matter',\n",
    "    'Right-choroid-plexus',\n",
    "    'Right-Putamen',\n",
    "    'Right-VentralDC'];"
   ]
  },
  {
   "cell_type": "markdown",
   "id": "56cc9cd3-5a37-4f35-89f9-2b70ceeb1375",
   "metadata": {},
   "source": [
    "## For loop through patients in list matching seizure"
   ]
  },
  {
   "cell_type": "code",
   "execution_count": 10,
   "id": "653f1d70-cfdc-4bb9-956f-3377113b350d",
   "metadata": {
    "tags": []
   },
   "outputs": [
    {
     "name": "stdout",
     "output_type": "stream",
     "text": [
      "EC96_01\n",
      "[[0.53024869 0.58089842 0.59201849 ...        nan        nan        nan]\n",
      " [0.38574534 0.23376138 0.1884797  ...        nan        nan        nan]\n",
      " [2.62646081 2.50410516 2.53804051 ...        nan        nan        nan]\n",
      " ...\n",
      " [       nan        nan        nan ...        nan        nan        nan]\n",
      " [       nan        nan        nan ...        nan        nan        nan]\n",
      " [       nan        nan        nan ...        nan        nan        nan]]\n",
      "EC107_01\n",
      "[[-1.40104469 -1.41295205 -1.44149059 ...         nan         nan\n",
      "          nan]\n",
      " [-1.08909966 -1.04002926 -1.02424979 ...         nan         nan\n",
      "          nan]\n",
      " [-0.64273316 -0.55033496 -0.45319918 ...         nan         nan\n",
      "          nan]\n",
      " ...\n",
      " [        nan         nan         nan ...         nan         nan\n",
      "          nan]\n",
      " [        nan         nan         nan ...         nan         nan\n",
      "          nan]\n",
      " [        nan         nan         nan ...         nan         nan\n",
      "          nan]]\n",
      "EC133_03\n",
      "no index or ppEEG\n",
      "no filt_perdur\n"
     ]
    },
    {
     "name": "stderr",
     "output_type": "stream",
     "text": [
      "/var/folders/yg/mdppj78s1zg98yqntmdjd3xw0000gn/T/ipykernel_98114/2687851925.py:15: RuntimeWarning: Mean of empty slice\n",
      "  LL_nanmean = np.nanmean(LL[row_1,sample_bl_start:sample_bl_end])\n",
      "/Users/nataliasucher/opt/anaconda3/lib/python3.9/site-packages/numpy/lib/nanfunctions.py:1664: RuntimeWarning: Degrees of freedom <= 0 for slice.\n",
      "  var = nanvar(a, axis=axis, dtype=dtype, out=out, ddof=ddof,\n"
     ]
    },
    {
     "name": "stdout",
     "output_type": "stream",
     "text": [
      "[[nan nan nan ... nan nan nan]\n",
      " [nan nan nan ... nan nan nan]\n",
      " [nan nan nan ... nan nan nan]\n",
      " ...\n",
      " [nan nan nan ... nan nan nan]\n",
      " [nan nan nan ... nan nan nan]\n",
      " [nan nan nan ... nan nan nan]]\n",
      "EC229_02\n",
      "[[-0.80948794 -0.81571281 -0.81531306 ...         nan         nan\n",
      "          nan]\n",
      " [-1.20470364 -1.23572045 -1.2299156  ...         nan         nan\n",
      "          nan]\n",
      " [-1.32389018 -1.35819444 -1.37459255 ...         nan         nan\n",
      "          nan]\n",
      " ...\n",
      " [        nan         nan         nan ...         nan         nan\n",
      "          nan]\n",
      " [        nan         nan         nan ...         nan         nan\n",
      "          nan]\n",
      " [        nan         nan         nan ...         nan         nan\n",
      "          nan]]\n"
     ]
    }
   ],
   "source": [
    "avg_change_path = '/Users/nataliasucher/Desktop/UCSF/Coding/OPSCEA/OPSCEADATA/avg_change_folders/'\n",
    "\n",
    "pt_data,sz_data,df_params = get_ptsz(avg_change_path) #Ehsan\n",
    "\n",
    "# for neuro_struc in neuroanat_list:\n",
    "\n",
    "#For loop through patients\n",
    "for i in range(len(pt_data)):  #Ehsan\n",
    "    pt_i = pt_data[i]          #Ehsan\n",
    "    sz_name = sz_data[i]       #Ehsan\n",
    "\n",
    "    pt_path = avg_change_path + pt_i + '/'\n",
    "    os.chdir(pt_path)\n",
    "    pt_dir = os.listdir(pt_path)\n",
    "\n",
    "    for sz_name in sz_data: \n",
    "\n",
    "        if sz_name in pt_dir: #patients in list matching seizure\n",
    " \n",
    "            print(sz_name)\n",
    "    \n",
    "            blstart, blstop, llw = get_params(df_params,pt_i) # 2 = params_llw\n",
    "                                    \n",
    "            sz_path = pt_path + sz_data[i]\n",
    "            \n",
    "            os.chdir(sz_path)\n",
    "\n",
    "            #load data\n",
    "            sem_df = pd.read_csv(sz_name + '_mat.csv',usecols = [sx_input]) #load semiology matrix .csv\n",
    "            \n",
    "            sz_mat = loadmat(sz_name +'.mat') #load frame speed and electrode matrix    \n",
    "            fs = sz_mat['fs'].flatten()\n",
    "            ppEEG = sz_mat['ppEEG']\n",
    "            \n",
    "            d = pd.DataFrame(ppEEG)\n",
    "            \n",
    "            #remove EKG lines at end of anatomy + ppEEG?\n",
    "\n",
    "            try:\n",
    "                filt_before, filt_after = filt_perdur(sx_input,mx_input,perdur_input,d,sem_df,fs) #creates 2 arrays of before and after seizure onset and filters\n",
    "            except:\n",
    "                print('no filt_perdur')\n",
    "\n",
    "            try:\n",
    "                LL = ll_transform(llw,fs,d,blstart,blstop)                        \n",
    "            except:\n",
    "                print('no ll_transform')\n",
    "            \n",
    "            # try:\n",
    "            #     LL_s = ll_sort(LL)\n",
    "            # except:\n",
    "            #     print('no ll_sort')\n",
    "\n"
   ]
  },
  {
   "cell_type": "code",
   "execution_count": null,
   "id": "2d77d52e-4ba8-4431-bf79-001ca1b95fe1",
   "metadata": {},
   "outputs": [],
   "source": []
  },
  {
   "cell_type": "code",
   "execution_count": null,
   "id": "2db9bbc2-3bb4-47af-8473-d6532b6b631e",
   "metadata": {},
   "outputs": [],
   "source": []
  }
 ],
 "metadata": {
  "kernelspec": {
   "display_name": "Python 3 (ipykernel)",
   "language": "python",
   "name": "python3"
  },
  "language_info": {
   "codemirror_mode": {
    "name": "ipython",
    "version": 3
   },
   "file_extension": ".py",
   "mimetype": "text/x-python",
   "name": "python",
   "nbconvert_exporter": "python",
   "pygments_lexer": "ipython3",
   "version": "3.9.7"
  }
 },
 "nbformat": 4,
 "nbformat_minor": 5
}
