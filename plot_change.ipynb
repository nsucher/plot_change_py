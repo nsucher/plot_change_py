{
 "cells": [
  {
   "cell_type": "markdown",
   "id": "88e06506-4984-4626-9860-6ffc5ffc8df7",
   "metadata": {},
   "source": [
    "plot_change.py: Generate significance of electrode weight changes at neuroanatomical sites"
   ]
  },
  {
   "cell_type": "markdown",
   "id": "440d16a1-af04-48fb-a299-6577a6697063",
   "metadata": {},
   "source": [
    "Pseudocode:\n",
    "    1. Import\n",
    "    2. Set Path\n",
    "    3. For Loop through seizures"
   ]
  },
  {
   "cell_type": "code",
   "execution_count": 16,
   "id": "590f13f7-20f3-4c17-b149-66df2cd6cd8e",
   "metadata": {
    "tags": []
   },
   "outputs": [],
   "source": [
    "#1. Import\n",
    "import csv\n",
    "import os\n",
    "import pathlib\n",
    "\n",
    "#2. Set path\n",
    "avg_change_path = '/Users/nataliasucher/Desktop/UCSF/Coding/OPSCEA/OPSCEADATA/avg_change_folders/'\n",
    "os.chdir(avg_change_path)\n",
    "\n",
    "#3. For loop through seizures\n",
    "\n",
    "pt_list = os.listdir(avg_change_path)\n",
    "\n",
    "new_pt_list = []\n",
    "new_sz_list = []\n",
    "new_sz = []\n",
    "sz_name_list = []\n",
    "sz_count = 0\n",
    "\n",
    "\n",
    "#delete folders that do not contain seizures\n",
    "for pt_i in range(0,len(pt_list)):\n",
    "    pt = pt_list[pt_i]\n",
    "    if pt[0] != '.':\n",
    "        new_pt_list.append(pt)\n",
    "\n",
    "\n",
    "for pt_folder in new_pt_list:\n",
    "    path1 = os.path.join(avg_change_path,pt_folder)\n",
    "    # print(path1)\n",
    "    os.chdir(path1)\n",
    "    sz_list = os.listdir(path1)\n",
    "        \n",
    "    #collect seizure names by ignoring folders that do not contain seizures\n",
    "    for sz_i in range(0,len(sz_list)):\n",
    "        sz_name = sz_list[sz_i]\n",
    "        if sz_name[0] != '.' and sz_name != 'Imaging':\n",
    "            sz_count += 1\n",
    "            path2 = os.path.join(path1,sz_name)\n",
    "            path3 = os.path.join(path1,'Imaging/elecs')\n",
    "\n",
    "        #load symptom matrix (mat.csv) and time matrix (time_mat.csv) and electrode info over time matrix (sz.mat)\n",
    "            os.chdir(path2)\n",
    "\n",
    "            mat_csv = 'mat.csv'\n",
    "            mat_list = [sz_name,mat_csv]\n",
    "            mat_file = '_'.join(mat_list)\n",
    "\n",
    "            time_mat_csv = 'time_mat.csv'\n",
    "            time_mat_list = [sz_name,time_mat_csv]\n",
    "            time_mat_file = '_'.join(time_mat_list)\n",
    "            \n",
    "            sz_mat_mat = '.mat'\n",
    "            sz_mat_list = [sz_name,sz_mat_mat]\n",
    "            sz_mat_file = ''.join(sz_mat_list)\n",
    "\n",
    "\n",
    "\n",
    "            ## mat.csv\n",
    "            with open(mat_file,'r') as sz_mat:\n",
    "\n",
    "                mat_csv_data = csv.reader(sz_mat)\n",
    "\n",
    "                mat_csv_list = list(mat_csv_data)\n",
    "                \n",
    "                #collect symptom abbreviations\n",
    "                all_sx = mat_csv_list[0] \n",
    "                \n",
    "            ## time_mat.csv\n",
    "            with open(time_mat_file,'r') as sz_time_mat:\n",
    "\n",
    "                time_mat_csv_data = csv.reader(sz_time_mat)\n",
    "\n",
    "                time_mat_csv_list = list(time_mat_csv_data)\n",
    "                \n",
    "            ## sz.mat\n",
    "            with open(sz_mat_file,'r') as sz_mat:\n",
    "                \n",
    "                sz_mat_data = csv.reader(sz_mat)\n",
    "                \n",
    "                #load 3 matrices within data\n",
    "            \n",
    "        #load electrode placement matrix (elec.mat)\n",
    "            os.chdir(path3)\n",
    "            \n",
    "            elecs_mat = 'clinical_elecs_all.mat'\n",
    "\n",
    "     \n",
    "            with open(elecs_mat,'r') as e_mat:\n",
    "\n",
    "\n",
    "                e_mat_data = csv.reader(e_mat)\n",
    "\n",
    "                # e_mat_list = list(e_mat_data)\n",
    "                \n",
    "                #display to see if works\n",
    "                # all_sx = e_mat_data[0]\n",
    "                # print(e_mat_data)\n",
    "\n"
   ]
  },
  {
   "cell_type": "code",
   "execution_count": null,
   "id": "dbc7d2a8-8f0c-4409-afd6-eb484604328a",
   "metadata": {
    "collapsed": true,
    "jupyter": {
     "outputs_hidden": true,
     "source_hidden": true
    },
    "tags": []
   },
   "outputs": [],
   "source": []
  },
  {
   "cell_type": "code",
   "execution_count": null,
   "id": "a50e5972-5f61-4325-9909-7c2e4f091eda",
   "metadata": {
    "tags": []
   },
   "outputs": [],
   "source": []
  },
  {
   "cell_type": "code",
   "execution_count": null,
   "id": "e01800a2-2a2e-4624-911c-eeb171875d3b",
   "metadata": {},
   "outputs": [],
   "source": []
  }
 ],
 "metadata": {
  "kernelspec": {
   "display_name": "Python 3 (ipykernel)",
   "language": "python",
   "name": "python3"
  },
  "language_info": {
   "codemirror_mode": {
    "name": "ipython",
    "version": 3
   },
   "file_extension": ".py",
   "mimetype": "text/x-python",
   "name": "python",
   "nbconvert_exporter": "python",
   "pygments_lexer": "ipython3",
   "version": "3.9.7"
  }
 },
 "nbformat": 4,
 "nbformat_minor": 5
}
