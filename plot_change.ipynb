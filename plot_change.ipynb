{
 "cells": [
  {
   "cell_type": "markdown",
   "id": "88e06506-4984-4626-9860-6ffc5ffc8df7",
   "metadata": {},
   "source": [
    "plot_change.py: Generate significance of electrode weight changes at neuroanatomical sites"
   ]
  },
  {
   "cell_type": "markdown",
   "id": "440d16a1-af04-48fb-a299-6577a6697063",
   "metadata": {},
   "source": [
    "Pseudocode:\n",
    "    1. Import\n",
    "    2. Load Parameters\n",
    "    3. For Loop through seizures"
   ]
  },
  {
   "cell_type": "code",
   "execution_count": 45,
   "id": "1de7e19a-6252-454c-a42b-ca6cd715ac42",
   "metadata": {},
   "outputs": [],
   "source": [
    "def open_csv(mat_file):\n",
    "    \n",
    "    with open(mat_file,'r') as sz_mat:\n",
    "        mat_csv_list = list(csv.reader(sz_mat))\n",
    "\n",
    "        all_sx = mat_csv_list[0] #collect symptom abbreviations\n",
    "        sx_col = all_sx.index(sx_input) #find col num of symptom\n",
    "        csv_rows = np.size(mat_csv_list,0) #find row num \n",
    "\n",
    "        for r in range(1,csv_rows):  #collect symptom data for specfic seizure in list\n",
    "            sx_data.append(mat_csv_list[r][sx_col]) \n",
    "\n",
    "        try: \n",
    "            mx_index = sx_data.index(mx_input) #find row num of first occurance of mode  \n",
    "            return mx_index\n",
    "\n",
    "        except ValueError:\n",
    "            print('no matching mode')\n",
    "            "
   ]
  },
  {
   "cell_type": "code",
   "execution_count": 46,
   "id": "70f421ab-8811-44a9-93c0-f5d5fa386eb1",
   "metadata": {
    "tags": []
   },
   "outputs": [],
   "source": [
    "#1. Import\n",
    "import csv\n",
    "import os\n",
    "import pathlib\n",
    "import numpy as np\n",
    "from scipy.io import loadmat\n",
    "\n",
    "#\n",
    "import pandas as pd\n",
    "import datetime\n",
    "# from plot_change_module import *"
   ]
  },
  {
   "cell_type": "code",
   "execution_count": 47,
   "id": "54fe4fed-7573-4142-8bf2-827f5f300ccd",
   "metadata": {
    "tags": []
   },
   "outputs": [],
   "source": [
    "#1.5 input symptom, mode, and duration\n",
    "sx_input = 'lhx'\n",
    "# sx_input = input('enter 3 digit code for symptom: ')\n",
    "\n",
    "mx_input = '2'\n",
    "# mx_input = input('enter mode (1: automatism, 2: tonic, 3: clonic): ')\n",
    "\n",
    "perdur_input = '10'\n",
    "# perdur_input = input('enter period of duration: ')"
   ]
  },
  {
   "cell_type": "code",
   "execution_count": 48,
   "id": "1da1a91c-f8ba-4efc-b8c9-7b4f974168cc",
   "metadata": {
    "tags": []
   },
   "outputs": [],
   "source": [
    "#2. Load Parameters\n",
    "opscea_path = '/Users/nataliasucher/Desktop/UCSF/Coding/OPSCEA/' # set path\n",
    "\n",
    "os.chdir(opscea_path)"
   ]
  },
  {
   "cell_type": "code",
   "execution_count": 49,
   "id": "49bfe942-4f41-4c51-8f81-055e1e0d37fc",
   "metadata": {
    "tags": []
   },
   "outputs": [],
   "source": [
    "df = pd.read_excel('OPSCEAparams.xlsx') #dataframe\n",
    "Ndimensions = df.shape #row, col\n",
    "params_list = df.values.tolist()"
   ]
  },
  {
   "cell_type": "code",
   "execution_count": 50,
   "id": "cf9f832c-d805-41e8-bd1e-6fe88053a232",
   "metadata": {},
   "outputs": [],
   "source": [
    "#3. For loop through seizures\n",
    "avg_change_path = '/Users/nataliasucher/Desktop/UCSF/Coding/OPSCEA/OPSCEADATA/avg_change_folders/'\n",
    "os.chdir(avg_change_path)\n",
    "\n",
    "pt_list = os.listdir(avg_change_path)\n",
    "\n",
    "new_pt_list = []\n",
    "anat = []"
   ]
  },
  {
   "cell_type": "markdown",
   "id": "e7d2b128-eadb-44f4-a8b7-cd154543574d",
   "metadata": {},
   "source": [
    "delete folders that do not contain seizures"
   ]
  },
  {
   "cell_type": "code",
   "execution_count": 51,
   "id": "fbcf29a1-3e17-451e-97e1-d9cf9957d912",
   "metadata": {},
   "outputs": [],
   "source": [
    "for pt_i in range(0,len(pt_list)):\n",
    "    pt = pt_list[pt_i]\n",
    "    if pt[0] != '.':\n",
    "        new_pt_list.append(pt)"
   ]
  },
  {
   "cell_type": "code",
   "execution_count": 52,
   "id": "8bc974ff-8c06-41e3-9c50-c7b623206956",
   "metadata": {},
   "outputs": [],
   "source": [
    "for pt_folder in new_pt_list:\n",
    "    path1 = os.path.join(avg_change_path,pt_folder)\n",
    "    os.chdir(path1)\n",
    "    sz_list = os.listdir(path1)"
   ]
  },
  {
   "cell_type": "code",
   "execution_count": 53,
   "id": "b395229f-0a7e-4a3d-825d-83335ab4a01d",
   "metadata": {},
   "outputs": [],
   "source": [
    "    for sz_i in range(0,len(sz_list)): #collect seizure names  \n",
    "        sz_name = sz_list[sz_i]\n",
    "        sx_data = []\n",
    "        ll_weight_times = []\n",
    "        "
   ]
  },
  {
   "cell_type": "code",
   "execution_count": 54,
   "id": "cd7d230a-c473-455b-8a1f-0d5a43efa532",
   "metadata": {},
   "outputs": [],
   "source": [
    "        #ignore folders without seizures\n",
    "        if sz_name[0] != '.' and sz_name != 'Imaging':  \n",
    "            sz_name_split = sz_name.split('_') # collect sz_name to list  [EC104, 01]\n",
    "            sz_suffix = sz_name_split[-1]; # '01'"
   ]
  },
  {
   "cell_type": "markdown",
   "id": "c1734051-af3d-4242-be98-4210d8d03499",
   "metadata": {},
   "source": [
    "Extract parameters"
   ]
  },
  {
   "cell_type": "code",
   "execution_count": 55,
   "id": "0775b703-063c-4cb7-b966-510357532f38",
   "metadata": {},
   "outputs": [],
   "source": [
    "            # print(sz_suffix)\n",
    "            # read_params(Ndimensions,params_list,pt_folder,sz_suffix)\n",
    "            for num in range(0,Ndimensions[0]): # for all rows in params\n",
    "                if type(params_list[0][num]) != None:\n",
    "                    if pt_folder == params_list[0][num]: # if patient exists in path and params\n",
    "                        if sz_suffix == params_list[1][num]: # if seizure exists in path and params\n",
    "                            #load data of pt_sz from params main sheet\n",
    "                            # params_vid_start = 2\n",
    "                            params_vid_start = params_list[2][num]\n",
    "                            params_vid_stop = params_list[3][num]\n",
    "\n",
    "            # for num in range(0,Ndimensions[0]): # for all rows in params \n",
    "            #                 if type(params_list[0][num]) != None:\n",
    "            #                     if pt_folder == params_list[0][num]: # if patient exists in path and params\n",
    "            #                         if sz_suffix == params_list[1][num]: # if seizure exists in path and params\n",
    "            #                             #load data of pt_sz from params main sheet\n",
    "            #                             params_vid_start = params_list[2][num]\n",
    "            #                             params_vid_stop = params_list[3][num]\n",
    "            #                             # bl_start = params_list[4][num] \n",
    "            #                             # bl_stop = params_list[5][num] \n",
    "            #                             # llw = params_list[6][num] \n",
    "            #                             # iceeg_scale = params_list[7][num] \n",
    "            #                             # fps = params_list[8][num] \n",
    "            #                             # cax = params_list[9][num] \n",
    "            #                             # gsp = params_list[10][num] \n",
    "            #                             # cm = params_list[11][num] \n",
    "            #                             # iceegwin = params_list[12][num] \n",
    "            #                             # marg = params_list[13][num] \n",
    "            #                             # slicebright = params_list[14][num] "
   ]
  },
  {
   "cell_type": "markdown",
   "id": "8e3d0278-8746-4a24-9b6d-169bcf330a14",
   "metadata": {},
   "source": [
    "Set path and initialize variables for semiology and time matrix"
   ]
  },
  {
   "cell_type": "code",
   "execution_count": 56,
   "id": "6bca888a-269b-4444-a8d0-b5138c2a64bc",
   "metadata": {},
   "outputs": [],
   "source": [
    "            path2 = os.path.join(path1,sz_name)\n",
    "            path3 = os.path.join(path1,'Imaging/elecs')\n",
    "            \n",
    "\n",
    "        #load symptom matrix (mat.csv) and time matrix (time_mat.csv) and electrode info over time matrix (sz.mat)\n",
    "            os.chdir(path2)\n",
    "\n",
    "            mat_file = '_'.join([sz_name,'mat.csv'])\n",
    "            time_mat_file = '_'.join([sz_name,'time_mat.csv'])\n",
    "            sz_mat_file = ''.join([sz_name,'.mat'])"
   ]
  },
  {
   "cell_type": "markdown",
   "id": "b24869a2-30f0-451d-a2d0-7f78bff15bfc",
   "metadata": {},
   "source": [
    "Load semiology matrix          "
   ]
  },
  {
   "cell_type": "code",
   "execution_count": 57,
   "id": "db28d2ef-8b3b-4eb2-a80f-b7efa0c24221",
   "metadata": {},
   "outputs": [],
   "source": [
    "            ## mat.csv\n",
    "            mx_index = open_csv(mat_file)"
   ]
  },
  {
   "cell_type": "markdown",
   "id": "c054027c-bb67-4cb6-b423-bf1ea55ddc64",
   "metadata": {},
   "source": [
    "Load time matrix and match up with video and semiology matrix"
   ]
  },
  {
   "cell_type": "code",
   "execution_count": 58,
   "id": "4fae2594-a401-44fe-8915-988f132b0b3f",
   "metadata": {},
   "outputs": [],
   "source": [
    "            ## time_mat.csv\n",
    "            #MAKE INTO OWN FUNCTION\n",
    "            #DELETE AND PAD EXCEL SHEETS\n",
    "            with open(time_mat_file,'r') as sz_time_mat:\n",
    "                time_mat_csv_list = list(csv.reader(sz_time_mat))\n",
    "                \n",
    "                vid_start = time_mat_csv_list[1][0]\n",
    "                vid_end = time_mat_csv_list[1][1]\n",
    "                mat_start = time_mat_csv_list[1][2]\n",
    "                mat_end = time_mat_csv_list[1][3]\n",
    "                \n",
    "                td_vid_start = pd.Timedelta(vid_start)\n",
    "                td_vid_end = pd.Timedelta(vid_end)\n",
    "\n",
    "                \n",
    "                td_mat_start = pd.Timedelta(mat_start)\n",
    "                td_mat_end = pd.Timedelta(mat_end)\n",
    "                \n",
    "                td_vid_dur = td_vid_end - td_vid_start\n",
    "                td_mat_dur = td_mat_end - td_mat_start\n",
    "                \n",
    "                #if params vid start == start of video\n",
    "            # print(params_list[num][:])\n",
    "#                 td_params_stop = pd.Timedelta(int(params_vid_stop), \"s\")\n",
    "                \n",
    "            \n",
    "#                 short_vid_start = td_mat_start + td_mat_dur - td_params_stop\n",
    "                sem_first = td_mat_start - td_vid_start\n",
    "                sem_last = sem_first + td_mat_dur\n",
    "                sem_period = [sem_first, sem_last]"
   ]
  },
  {
   "cell_type": "markdown",
   "id": "97414094-6988-4387-b2d4-78169e445ca3",
   "metadata": {},
   "source": [
    "Collect linelength weight times"
   ]
  },
  {
   "cell_type": "code",
   "execution_count": 59,
   "id": "75045197-5cce-41ed-9961-1c64c28f6bc6",
   "metadata": {},
   "outputs": [],
   "source": [
    "            #COLLECT LL WEIGHT TIMES \n",
    "            \n",
    "            #find first occurance of either 1, 2, or 3 \n",
    "            td_perdur = pd.Timedelta(int(perdur_input), \"s\")\n",
    "            \n",
    "    \n",
    "            ll_weight_times.append(pd.Timedelta(mx_index / 5) + sem_first)\n",
    "            ll_weight_times.append(pd.Timedelta(mx_index / 5) + sem_first - td_perdur)\n",
    "            ll_weight_times.append(pd.Timedelta(mx_index / 5) + sem_first + td_perdur)\n",
    "\n",
    "            #collect sorting index\n",
    "            #collect relevant snippet from ll based on ll_weight_times\n",
    "            "
   ]
  },
  {
   "cell_type": "code",
   "execution_count": 60,
   "id": "493ea263-9014-4bb3-9c63-c3269027cfe7",
   "metadata": {},
   "outputs": [],
   "source": [
    "            ## sz.mat\n",
    "            # MAKE INTO OWN FUNCTION\n",
    "            sz_mat = loadmat(sz_mat_file)                            \n",
    "            \n",
    "                #load fs, ppEEG, study\n",
    "            fs = [[element for element in upperElement] for upperElement in sz_mat['fs']]\n",
    "            ppEEG = [[element for element in upperElement] for upperElement in sz_mat['ppEEG']]\n",
    "            # study = [[element for element in upperElement] for upperElement in sz_mat['study']]\n",
    "           \n",
    "        \n",
    "            if 'fs' in locals() or 'fs' in globals():\n",
    "                sfx = fs\n",
    "                del fs\n",
    "                \n",
    "            if 'ppEEG' in locals() or 'ppEEG' in globals():\n",
    "                d = ppEEG\n",
    "                del ppEEG\n",
    "\n",
    "            #load electrodes -- anatomy, eleclabels, elecmatrix\n",
    "            os.chdir(path3)"
   ]
  },
  {
   "cell_type": "code",
   "execution_count": 61,
   "id": "1f957a24-fe37-49ac-b56a-5c454fbcd748",
   "metadata": {},
   "outputs": [],
   "source": [
    "            \n",
    "            elecs_mat = loadmat('clinical_elecs_all.mat')            \n",
    "        \n",
    "                #load anatomy\n",
    "            anatomy = [[element for element in upperElement] for upperElement in elecs_mat['anatomy']]\n",
    "            # eleclabels = [[element for element in upperElement] for upperElement in elecs_mat['eleclabels']]\n",
    "            # elecmatrix = [[element for element in upperElement] for upperElement in elecs_mat['elecmatrix']]\n",
    "            \n",
    "            \n",
    "            \n",
    "            #TRY/EXCEPT INSTEAD\n",
    "            # make sure variables are present\n",
    "#             if 'anatomy' in locals() or 'anatomy' in globals():\n",
    "#                 #collect neuroanatomy by row\n",
    "#                 for a_row in range(0,np.size(anatomy,0)):\n",
    "#                     if np.size(anatomy[a_row][3]) == 1:\n",
    "#                         anat.append(anatomy[a_row][3][0])\n",
    "#                 del anatomy\n",
    "\n",
    "                "
   ]
  },
  {
   "cell_type": "code",
   "execution_count": null,
   "id": "67b4e8e3-023b-4a20-b371-51b37df074ee",
   "metadata": {},
   "outputs": [],
   "source": []
  },
  {
   "cell_type": "code",
   "execution_count": null,
   "id": "26bc1cc3-37af-4968-b3d2-de6fb82b4c5d",
   "metadata": {},
   "outputs": [],
   "source": []
  },
  {
   "cell_type": "code",
   "execution_count": null,
   "id": "62936a37-83d0-4616-9936-8ae9a7f0eb13",
   "metadata": {},
   "outputs": [],
   "source": []
  },
  {
   "cell_type": "code",
   "execution_count": null,
   "id": "710c6409-dee3-4e49-bd20-3e5fee968797",
   "metadata": {},
   "outputs": [],
   "source": []
  }
 ],
 "metadata": {
  "kernelspec": {
   "display_name": "Python 3 (ipykernel)",
   "language": "python",
   "name": "python3"
  },
  "language_info": {
   "codemirror_mode": {
    "name": "ipython",
    "version": 3
   },
   "file_extension": ".py",
   "mimetype": "text/x-python",
   "name": "python",
   "nbconvert_exporter": "python",
   "pygments_lexer": "ipython3",
   "version": "3.9.7"
  }
 },
 "nbformat": 4,
 "nbformat_minor": 5
}
